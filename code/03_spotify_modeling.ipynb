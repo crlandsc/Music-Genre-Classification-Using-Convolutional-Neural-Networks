{
 "cells": [
  {
   "cell_type": "markdown",
   "id": "cc1c325d",
   "metadata": {
    "id": "cc1c325d"
   },
   "source": [
    "# Music Genre Classification - Tabular Audio Feature Classification Modeling\n",
    "- In this notebook we seek to make predictive models that do not rely on time-frequency analysis.\n",
    "- We use Spotify's API in order to collect song data to fit logistic regression and a dense neural network models to discern genre.\n",
    "- This process is designed to serve as a benchmark of success for our other neural network models trained on raw audio data."
   ]
  },
  {
   "cell_type": "markdown",
   "id": "3eda3515",
   "metadata": {},
   "source": [
    "## Contents\n",
    "- [Imports](#Imports)\n",
    "- [Data Collection](#Data-Collection)\n",
    "- [Exploratory Data Analysis (EDA)](#Exploratory-Data-Analysis-(EDA))\n",
    "- [Modeling](#Modeling)\n",
    "    - [Logistic Regression](#Logistic-Regression)\n",
    "    - [Dense Neural Network (DNN)](#Dense-Neural-Network-(DNN))\n",
    "- [Conclusions](#Conclusions)"
   ]
  },
  {
   "cell_type": "markdown",
   "id": "839c2aaf",
   "metadata": {
    "id": "839c2aaf"
   },
   "source": [
    "### Imports"
   ]
  },
  {
   "cell_type": "code",
   "execution_count": 213,
   "id": "72pffZ5m-6Me",
   "metadata": {
    "colab": {
     "base_uri": "https://localhost:8080/"
    },
    "id": "72pffZ5m-6Me",
    "outputId": "c6fdbebe-34ff-4ec4-8eac-7d6044b6f72f"
   },
   "outputs": [],
   "source": [
    "# Spotipy API needs to be installed to run this notebook\n",
    "# !pip install Spotipy"
   ]
  },
  {
   "cell_type": "code",
   "execution_count": 214,
   "id": "c3ec3f70",
   "metadata": {
    "id": "c3ec3f70"
   },
   "outputs": [],
   "source": [
    "# Imports\n",
    "import numpy as np\n",
    "import pandas as pd\n",
    "import matplotlib.pyplot as plt\n",
    "import spotipy # Spotify API\n",
    "from spotipy import SpotifyClientCredentials # Spotify API\n",
    "from itertools import chain # compress lists\n",
    "\n",
    "# Sklearn\n",
    "from sklearn.model_selection import train_test_split\n",
    "from sklearn.linear_model import LogisticRegression\n",
    "from sklearn.preprocessing import StandardScaler\n",
    "from sklearn.preprocessing import LabelEncoder\n",
    "from tensorflow.keras.regularizers import l2\n",
    "\n",
    "# Tensorflow\n",
    "from tensorflow.keras.models import Sequential\n",
    "from tensorflow.keras.layers import Dense, Dropout\n",
    "from tensorflow.keras.callbacks import EarlyStopping"
   ]
  },
  {
   "cell_type": "markdown",
   "id": "66104c59",
   "metadata": {},
   "source": [
    "## Data Collection\n",
    "#### Spotipy API\n",
    "- Using the Spotipy API, songs will be collected using the \"Top 10,000 Songs of All Time\" playlist by Acclaimed Music.\n",
    "- This playlist was chosen because it has a large range of songs and genres.\n",
    "\n",
    "#### Client Authentication\n",
    "- In order to interact with the Spotify API, we need client authentification.\n",
    "- This can be gained by creating an account through the Spotify for developers page."
   ]
  },
  {
   "cell_type": "code",
   "execution_count": 215,
   "id": "4918d6d7",
   "metadata": {
    "id": "4918d6d7"
   },
   "outputs": [],
   "source": [
    "cid = '' #insert your own id\n",
    "secret = '' #insert your own key"
   ]
  },
  {
   "cell_type": "code",
   "execution_count": 216,
   "id": "62ebcc58",
   "metadata": {
    "id": "62ebcc58"
   },
   "outputs": [],
   "source": [
    "client_credentials_manager = SpotifyClientCredentials(client_id=cid, client_secret=secret)\n",
    "spot = spotipy.Spotify(client_credentials_manager = client_credentials_manager)"
   ]
  },
  {
   "cell_type": "code",
   "execution_count": 217,
   "id": "1e9fd2ae",
   "metadata": {
    "id": "1e9fd2ae"
   },
   "outputs": [],
   "source": [
    "# Loop through api calls to collect songs (100 per call)\n",
    "playlist_link = 'https://open.spotify.com/playlist/1G8IpkZKobrIlXcVPoSIuf?si=f819917d1bca45b8'\n",
    "playlist_uri = playlist_link.split(\"/\")[-1].split(\"?\")[0]\n",
    "song_list = []\n",
    "for i in range(0,9901,100):\n",
    "    track_uris = [x[\"track\"][\"uri\"]...\n",
    "                  for x in spot.playlist_tracks(playlist_uri, limit= 100, offset= i)[\"items\"]...\n",
    "                  if x[\"track\"] != None ] # exception in case \"track\" has a value of \"None\"\n",
    "    \n",
    "    # Append songs to song list\n",
    "    song_list.append(track_uris)"
   ]
  },
  {
   "cell_type": "code",
   "execution_count": 218,
   "id": "282e5d3b",
   "metadata": {
    "id": "c9182b1e"
   },
   "outputs": [],
   "source": [
    "# Condense list of lists into single list of songs\n",
    "song_list = list(chain.from_iterable(song_list))"
   ]
  },
  {
   "cell_type": "markdown",
   "id": "adcdf175",
   "metadata": {
    "id": "adcdf175"
   },
   "source": [
    "### Review example data\n",
    "- Look at an example song to see its formatting.\n",
    "- From this we can create a new dataset. This is required because the genres of the songs are not included in the json package that the API returns. Instead, it is held within the artist's URI.\n",
    "- We will use the artist URI to determine each artist's/song's genre.\n",
    "- This is limiting because artists may create songs of various genres, but we are restricted to one genre per artist."
   ]
  },
  {
   "cell_type": "code",
   "execution_count": 219,
   "id": "ceda7dec",
   "metadata": {
    "id": "ceda7dec"
   },
   "outputs": [],
   "source": [
    "# Review first sample\n",
    "spot.track(song_list[0])"
   ]
  },
  {
   "cell_type": "code",
   "execution_count": 220,
   "id": "3fb500ad",
   "metadata": {
    "id": "3fb500ad",
    "outputId": "ea33b650-3867-467f-b108-0f8866ce2cd1"
   },
   "outputs": [],
   "source": [
    "# Extract artist URI\n",
    "elvis = spot.track(song_list[0])['album']['artists'][0]['uri']\n",
    "elvis"
   ]
  },
  {
   "cell_type": "code",
   "execution_count": 221,
   "id": "c1f14f7a",
   "metadata": {
    "id": "c1f14f7a"
   },
   "outputs": [],
   "source": [
    "# Extract genre from artist URI\n",
    "elvis_info = spot.artist(elvis)\n",
    "elvis_info['genres'][0]"
   ]
  },
  {
   "cell_type": "markdown",
   "id": "63a88f7f",
   "metadata": {},
   "source": [
    "#### Catch Spotipy Mistakes\n",
    "- Some song links to the artist page have been deleted.\n",
    "- This throws errors, so the data needs to filter out these problematic entries."
   ]
  },
  {
   "cell_type": "code",
   "execution_count": 222,
   "id": "9a571b94",
   "metadata": {
    "id": "9a571b94"
   },
   "outputs": [],
   "source": [
    "artist_uris = []\n",
    "failed_uris = []\n",
    "genres = []"
   ]
  },
  {
   "cell_type": "code",
   "execution_count": 223,
   "id": "a63f3e4a",
   "metadata": {
    "id": "a63f3e4a"
   },
   "outputs": [],
   "source": [
    "# Test if each song has a valid link to the artist.\n",
    "# If so, append uri\n",
    "for i in song_list:\n",
    "  try:\n",
    "       artist_uri = spot.track(i)['album']['artists'][0]['uri']\n",
    "       artist_uris.append(artist_uri)\n",
    "       genres.append(spot.artist(artist_uri)['genres'][0])\n",
    "   except:\n",
    "       failed_uris.append(i)    "
   ]
  },
  {
   "cell_type": "markdown",
   "id": "86b9255d",
   "metadata": {},
   "source": [
    "#### Filter URIs\n",
    "- The successfully populated URIs need to be filtered from the missing values."
   ]
  },
  {
   "cell_type": "code",
   "execution_count": 224,
   "id": "WcMMuKjcIMsZ",
   "metadata": {
    "id": "WcMMuKjcIMsZ"
   },
   "outputs": [],
   "source": [
    "# Create list of filtered URIs\n",
    "filtered_uris = [x for x in song_list if x not in failed_uris]"
   ]
  },
  {
   "cell_type": "code",
   "execution_count": 225,
   "id": "YAPX7cVP2yWm",
   "metadata": {
    "id": "YAPX7cVP2yWm"
   },
   "outputs": [],
   "source": [
    "# Loop through URIs\n",
    "\n",
    "features = []\n",
    "more_failed_uris = []\n",
    "\n",
    "for i in filtered_uris:\n",
    "   try:\n",
    "       track_feature = spot.audio_features(i)[0]\n",
    "       features.append(track_feature)\n",
    "   except:\n",
    "       more_failed_uris.append(i)"
   ]
  },
  {
   "cell_type": "code",
   "execution_count": 226,
   "id": "d7758b92",
   "metadata": {
    "id": "d7758b92"
   },
   "outputs": [],
   "source": [
    "# Loop through URIs to extract the successfully gleaned genres\n",
    "\n",
    "refiltered_genres = []\n",
    "\n",
    "re_filtered = [ x['uri'] for x in features if x not in failed_uris]\n",
    "for i in song_list:\n",
    "    artist_uri = spot.track(i)['album']['artists'][0]['uri'] \n",
    "    refiltered_genres.append(spot.artist(artist_uri)['genres'][0])\n",
    "        "
   ]
  },
  {
   "cell_type": "code",
   "execution_count": 227,
   "id": "f3e8a16b",
   "metadata": {
    "id": "f3e8a16b"
   },
   "outputs": [],
   "source": [
    "# Create a dataframe to include our features and genres\n",
    "df = pd.DataFrame(data = features, columns = features[0].keys())\n",
    "gen = pd.Series(refiltered_genres)\n",
    "df['genre'] = gen.values"
   ]
  },
  {
   "cell_type": "markdown",
   "id": "cc583d70",
   "metadata": {},
   "source": [
    "#### Cameron Watts Dataset\n",
    "- Because the Spotipy API takes days to run, during testing we leveraged a pre-created dataset that follows the same collection process from Cameron Watts in the article *\"Extracting Song Data From the Spotify API Using Python\"*"
   ]
  },
  {
   "cell_type": "code",
   "execution_count": 230,
   "id": "3b55f5ef",
   "metadata": {
    "id": "3b55f5ef"
   },
   "outputs": [],
   "source": [
    "# music_set = pd.read_csv('https://raw.githubusercontent.com/enjuichang/PracticalDataScience-ENCA/main/data/allsong_data.csv')"
   ]
  },
  {
   "cell_type": "markdown",
   "id": "9dKV7rCAClhf",
   "metadata": {
    "id": "9dKV7rCAClhf"
   },
   "source": [
    "## Exploratory Data Analysis (EDA)\n",
    "- Review data and features.\n",
    "- Drop unnecessary features.\n",
    "- Condense list of genres/sub-genres to common genres."
   ]
  },
  {
   "cell_type": "code",
   "execution_count": 231,
   "id": "d2609eb0",
   "metadata": {
    "colab": {
     "base_uri": "https://localhost:8080/",
     "height": 426
    },
    "id": "d2609eb0",
    "outputId": "07dfbf7a-9b84-431c-eaf5-e6505d56ede9"
   },
   "outputs": [
    {
     "data": {
      "text/html": [
       "<div>\n",
       "<style scoped>\n",
       "    .dataframe tbody tr th:only-of-type {\n",
       "        vertical-align: middle;\n",
       "    }\n",
       "\n",
       "    .dataframe tbody tr th {\n",
       "        vertical-align: top;\n",
       "    }\n",
       "\n",
       "    .dataframe thead th {\n",
       "        text-align: right;\n",
       "    }\n",
       "</style>\n",
       "<table border=\"1\" class=\"dataframe\">\n",
       "  <thead>\n",
       "    <tr style=\"text-align: right;\">\n",
       "      <th></th>\n",
       "      <th>artist_name</th>\n",
       "      <th>id</th>\n",
       "      <th>track_name</th>\n",
       "      <th>danceability</th>\n",
       "      <th>energy</th>\n",
       "      <th>key</th>\n",
       "      <th>loudness</th>\n",
       "      <th>mode</th>\n",
       "      <th>speechiness</th>\n",
       "      <th>acousticness</th>\n",
       "      <th>instrumentalness</th>\n",
       "      <th>liveness</th>\n",
       "      <th>valence</th>\n",
       "      <th>tempo</th>\n",
       "      <th>artist_pop</th>\n",
       "      <th>genres</th>\n",
       "      <th>track_pop</th>\n",
       "      <th>genres_list</th>\n",
       "      <th>subjectivity</th>\n",
       "      <th>polarity</th>\n",
       "    </tr>\n",
       "  </thead>\n",
       "  <tbody>\n",
       "    <tr>\n",
       "      <th>0</th>\n",
       "      <td>Missy Elliott</td>\n",
       "      <td>0UaMYEvWZi0ZqiDOoHU3YI</td>\n",
       "      <td>Lose Control (feat. Ciara &amp; Fat Man Scoop)</td>\n",
       "      <td>0.904</td>\n",
       "      <td>0.813</td>\n",
       "      <td>4</td>\n",
       "      <td>-7.105</td>\n",
       "      <td>0</td>\n",
       "      <td>0.1210</td>\n",
       "      <td>0.03110</td>\n",
       "      <td>0.006970</td>\n",
       "      <td>0.0471</td>\n",
       "      <td>0.810</td>\n",
       "      <td>125.461</td>\n",
       "      <td>74</td>\n",
       "      <td>dance_pop hip_hop hip_pop pop pop_rap r&amp;b rap ...</td>\n",
       "      <td>69</td>\n",
       "      <td>['dance_pop', 'hip_hop', 'hip_pop', 'pop', 'po...</td>\n",
       "      <td>low</td>\n",
       "      <td>Neutral</td>\n",
       "    </tr>\n",
       "    <tr>\n",
       "      <th>1</th>\n",
       "      <td>Britney Spears</td>\n",
       "      <td>6I9VzXrHxO9rA9A5euc8Ak</td>\n",
       "      <td>Toxic</td>\n",
       "      <td>0.774</td>\n",
       "      <td>0.838</td>\n",
       "      <td>5</td>\n",
       "      <td>-3.914</td>\n",
       "      <td>0</td>\n",
       "      <td>0.1140</td>\n",
       "      <td>0.02490</td>\n",
       "      <td>0.025000</td>\n",
       "      <td>0.2420</td>\n",
       "      <td>0.924</td>\n",
       "      <td>143.040</td>\n",
       "      <td>84</td>\n",
       "      <td>dance_pop pop post-teen_pop</td>\n",
       "      <td>83</td>\n",
       "      <td>['dance_pop', 'pop', 'post-teen_pop']</td>\n",
       "      <td>low</td>\n",
       "      <td>Neutral</td>\n",
       "    </tr>\n",
       "    <tr>\n",
       "      <th>2</th>\n",
       "      <td>Beyoncé</td>\n",
       "      <td>0WqIKmW4BTrj3eJFmnCKMv</td>\n",
       "      <td>Crazy In Love</td>\n",
       "      <td>0.664</td>\n",
       "      <td>0.758</td>\n",
       "      <td>2</td>\n",
       "      <td>-6.583</td>\n",
       "      <td>0</td>\n",
       "      <td>0.2100</td>\n",
       "      <td>0.00238</td>\n",
       "      <td>0.000000</td>\n",
       "      <td>0.0598</td>\n",
       "      <td>0.701</td>\n",
       "      <td>99.259</td>\n",
       "      <td>86</td>\n",
       "      <td>dance_pop pop r&amp;b</td>\n",
       "      <td>25</td>\n",
       "      <td>['dance_pop', 'pop', 'r&amp;b']</td>\n",
       "      <td>high</td>\n",
       "      <td>Negative</td>\n",
       "    </tr>\n",
       "    <tr>\n",
       "      <th>3</th>\n",
       "      <td>Justin Timberlake</td>\n",
       "      <td>1AWQoqb9bSvzTjaLralEkT</td>\n",
       "      <td>Rock Your Body</td>\n",
       "      <td>0.892</td>\n",
       "      <td>0.714</td>\n",
       "      <td>4</td>\n",
       "      <td>-6.055</td>\n",
       "      <td>0</td>\n",
       "      <td>0.1410</td>\n",
       "      <td>0.20100</td>\n",
       "      <td>0.000234</td>\n",
       "      <td>0.0521</td>\n",
       "      <td>0.817</td>\n",
       "      <td>100.972</td>\n",
       "      <td>82</td>\n",
       "      <td>dance_pop pop</td>\n",
       "      <td>79</td>\n",
       "      <td>['dance_pop', 'pop']</td>\n",
       "      <td>low</td>\n",
       "      <td>Neutral</td>\n",
       "    </tr>\n",
       "    <tr>\n",
       "      <th>4</th>\n",
       "      <td>Shaggy</td>\n",
       "      <td>1lzr43nnXAijIGYnCT8M8H</td>\n",
       "      <td>It Wasn't Me</td>\n",
       "      <td>0.853</td>\n",
       "      <td>0.606</td>\n",
       "      <td>0</td>\n",
       "      <td>-4.596</td>\n",
       "      <td>1</td>\n",
       "      <td>0.0713</td>\n",
       "      <td>0.05610</td>\n",
       "      <td>0.000000</td>\n",
       "      <td>0.3130</td>\n",
       "      <td>0.654</td>\n",
       "      <td>94.759</td>\n",
       "      <td>75</td>\n",
       "      <td>pop_rap reggae_fusion</td>\n",
       "      <td>2</td>\n",
       "      <td>['pop_rap', 'reggae_fusion']</td>\n",
       "      <td>low</td>\n",
       "      <td>Neutral</td>\n",
       "    </tr>\n",
       "  </tbody>\n",
       "</table>\n",
       "</div>"
      ],
      "text/plain": [
       "         artist_name                      id  \\\n",
       "0      Missy Elliott  0UaMYEvWZi0ZqiDOoHU3YI   \n",
       "1     Britney Spears  6I9VzXrHxO9rA9A5euc8Ak   \n",
       "2            Beyoncé  0WqIKmW4BTrj3eJFmnCKMv   \n",
       "3  Justin Timberlake  1AWQoqb9bSvzTjaLralEkT   \n",
       "4             Shaggy  1lzr43nnXAijIGYnCT8M8H   \n",
       "\n",
       "                                   track_name  danceability  energy  key  \\\n",
       "0  Lose Control (feat. Ciara & Fat Man Scoop)         0.904   0.813    4   \n",
       "1                                       Toxic         0.774   0.838    5   \n",
       "2                               Crazy In Love         0.664   0.758    2   \n",
       "3                              Rock Your Body         0.892   0.714    4   \n",
       "4                                It Wasn't Me         0.853   0.606    0   \n",
       "\n",
       "   loudness  mode  speechiness  acousticness  instrumentalness  liveness  \\\n",
       "0    -7.105     0       0.1210       0.03110          0.006970    0.0471   \n",
       "1    -3.914     0       0.1140       0.02490          0.025000    0.2420   \n",
       "2    -6.583     0       0.2100       0.00238          0.000000    0.0598   \n",
       "3    -6.055     0       0.1410       0.20100          0.000234    0.0521   \n",
       "4    -4.596     1       0.0713       0.05610          0.000000    0.3130   \n",
       "\n",
       "   valence    tempo  artist_pop  \\\n",
       "0    0.810  125.461          74   \n",
       "1    0.924  143.040          84   \n",
       "2    0.701   99.259          86   \n",
       "3    0.817  100.972          82   \n",
       "4    0.654   94.759          75   \n",
       "\n",
       "                                              genres  track_pop  \\\n",
       "0  dance_pop hip_hop hip_pop pop pop_rap r&b rap ...         69   \n",
       "1                        dance_pop pop post-teen_pop         83   \n",
       "2                                  dance_pop pop r&b         25   \n",
       "3                                      dance_pop pop         79   \n",
       "4                              pop_rap reggae_fusion          2   \n",
       "\n",
       "                                         genres_list subjectivity  polarity  \n",
       "0  ['dance_pop', 'hip_hop', 'hip_pop', 'pop', 'po...          low   Neutral  \n",
       "1              ['dance_pop', 'pop', 'post-teen_pop']          low   Neutral  \n",
       "2                        ['dance_pop', 'pop', 'r&b']         high  Negative  \n",
       "3                               ['dance_pop', 'pop']          low   Neutral  \n",
       "4                       ['pop_rap', 'reggae_fusion']          low   Neutral  "
      ]
     },
     "execution_count": 231,
     "metadata": {},
     "output_type": "execute_result"
    }
   ],
   "source": [
    "# Review all of the successfully scraped entries\n",
    "music_set.head()"
   ]
  },
  {
   "cell_type": "markdown",
   "id": "ZPZLY5I9Bfjj",
   "metadata": {
    "id": "ZPZLY5I9Bfjj"
   },
   "source": [
    "#### Drop unnecessary features\n",
    "- We only care about features we can use numerically to fit our models on, so we will drop the track names, artist names, polarities, subjectivities, track popularities, and artist popularities."
   ]
  },
  {
   "cell_type": "code",
   "execution_count": 232,
   "id": "43a8fc57",
   "metadata": {
    "id": "43a8fc57"
   },
   "outputs": [],
   "source": [
    "# Drop unnecessary features\n",
    "music_set = music_set.drop(columns=['id',\n",
    "                                    'artist_name',\n",
    "                                    'track_name',\n",
    "                                    'polarity',\n",
    "                                    'subjectivity',\n",
    "                                    'track_pop',\n",
    "                                    'artist_pop',\n",
    "                                    'genres'])"
   ]
  },
  {
   "cell_type": "markdown",
   "id": "oF4jSVrBCGr4",
   "metadata": {
    "id": "oF4jSVrBCGr4"
   },
   "source": [
    "#### Condense genre list\n",
    "- Condense genre list down to first (main) entry."
   ]
  },
  {
   "cell_type": "code",
   "execution_count": 233,
   "id": "fd85a0e0",
   "metadata": {
    "id": "fd85a0e0"
   },
   "outputs": [],
   "source": [
    "# Condense genre list down to first (main) entry\n",
    "music_set.genres_list = music_set['genres_list'].apply(lambda st: st[st.find(\"[\")+1:st.find(\",\")])"
   ]
  },
  {
   "cell_type": "code",
   "execution_count": 234,
   "id": "b274e64b",
   "metadata": {
    "colab": {
     "base_uri": "https://localhost:8080/",
     "height": 206
    },
    "id": "b274e64b",
    "outputId": "43f8358a-0300-4cff-e79e-8e11c79365b6"
   },
   "outputs": [
    {
     "data": {
      "text/html": [
       "<div>\n",
       "<style scoped>\n",
       "    .dataframe tbody tr th:only-of-type {\n",
       "        vertical-align: middle;\n",
       "    }\n",
       "\n",
       "    .dataframe tbody tr th {\n",
       "        vertical-align: top;\n",
       "    }\n",
       "\n",
       "    .dataframe thead th {\n",
       "        text-align: right;\n",
       "    }\n",
       "</style>\n",
       "<table border=\"1\" class=\"dataframe\">\n",
       "  <thead>\n",
       "    <tr style=\"text-align: right;\">\n",
       "      <th></th>\n",
       "      <th>danceability</th>\n",
       "      <th>energy</th>\n",
       "      <th>key</th>\n",
       "      <th>loudness</th>\n",
       "      <th>mode</th>\n",
       "      <th>speechiness</th>\n",
       "      <th>acousticness</th>\n",
       "      <th>instrumentalness</th>\n",
       "      <th>liveness</th>\n",
       "      <th>valence</th>\n",
       "      <th>tempo</th>\n",
       "      <th>genres_list</th>\n",
       "    </tr>\n",
       "  </thead>\n",
       "  <tbody>\n",
       "    <tr>\n",
       "      <th>0</th>\n",
       "      <td>0.904</td>\n",
       "      <td>0.813</td>\n",
       "      <td>4</td>\n",
       "      <td>-7.105</td>\n",
       "      <td>0</td>\n",
       "      <td>0.1210</td>\n",
       "      <td>0.03110</td>\n",
       "      <td>0.006970</td>\n",
       "      <td>0.0471</td>\n",
       "      <td>0.810</td>\n",
       "      <td>125.461</td>\n",
       "      <td>'dance_pop'</td>\n",
       "    </tr>\n",
       "    <tr>\n",
       "      <th>1</th>\n",
       "      <td>0.774</td>\n",
       "      <td>0.838</td>\n",
       "      <td>5</td>\n",
       "      <td>-3.914</td>\n",
       "      <td>0</td>\n",
       "      <td>0.1140</td>\n",
       "      <td>0.02490</td>\n",
       "      <td>0.025000</td>\n",
       "      <td>0.2420</td>\n",
       "      <td>0.924</td>\n",
       "      <td>143.040</td>\n",
       "      <td>'dance_pop'</td>\n",
       "    </tr>\n",
       "    <tr>\n",
       "      <th>2</th>\n",
       "      <td>0.664</td>\n",
       "      <td>0.758</td>\n",
       "      <td>2</td>\n",
       "      <td>-6.583</td>\n",
       "      <td>0</td>\n",
       "      <td>0.2100</td>\n",
       "      <td>0.00238</td>\n",
       "      <td>0.000000</td>\n",
       "      <td>0.0598</td>\n",
       "      <td>0.701</td>\n",
       "      <td>99.259</td>\n",
       "      <td>'dance_pop'</td>\n",
       "    </tr>\n",
       "    <tr>\n",
       "      <th>3</th>\n",
       "      <td>0.892</td>\n",
       "      <td>0.714</td>\n",
       "      <td>4</td>\n",
       "      <td>-6.055</td>\n",
       "      <td>0</td>\n",
       "      <td>0.1410</td>\n",
       "      <td>0.20100</td>\n",
       "      <td>0.000234</td>\n",
       "      <td>0.0521</td>\n",
       "      <td>0.817</td>\n",
       "      <td>100.972</td>\n",
       "      <td>'dance_pop'</td>\n",
       "    </tr>\n",
       "    <tr>\n",
       "      <th>4</th>\n",
       "      <td>0.853</td>\n",
       "      <td>0.606</td>\n",
       "      <td>0</td>\n",
       "      <td>-4.596</td>\n",
       "      <td>1</td>\n",
       "      <td>0.0713</td>\n",
       "      <td>0.05610</td>\n",
       "      <td>0.000000</td>\n",
       "      <td>0.3130</td>\n",
       "      <td>0.654</td>\n",
       "      <td>94.759</td>\n",
       "      <td>'pop_rap'</td>\n",
       "    </tr>\n",
       "  </tbody>\n",
       "</table>\n",
       "</div>"
      ],
      "text/plain": [
       "   danceability  energy  key  loudness  mode  speechiness  acousticness  \\\n",
       "0         0.904   0.813    4    -7.105     0       0.1210       0.03110   \n",
       "1         0.774   0.838    5    -3.914     0       0.1140       0.02490   \n",
       "2         0.664   0.758    2    -6.583     0       0.2100       0.00238   \n",
       "3         0.892   0.714    4    -6.055     0       0.1410       0.20100   \n",
       "4         0.853   0.606    0    -4.596     1       0.0713       0.05610   \n",
       "\n",
       "   instrumentalness  liveness  valence    tempo  genres_list  \n",
       "0          0.006970    0.0471    0.810  125.461  'dance_pop'  \n",
       "1          0.025000    0.2420    0.924  143.040  'dance_pop'  \n",
       "2          0.000000    0.0598    0.701   99.259  'dance_pop'  \n",
       "3          0.000234    0.0521    0.817  100.972  'dance_pop'  \n",
       "4          0.000000    0.3130    0.654   94.759    'pop_rap'  "
      ]
     },
     "execution_count": 234,
     "metadata": {},
     "output_type": "execute_result"
    }
   ],
   "source": [
    "# Review condense genres\n",
    "music_set.head()"
   ]
  },
  {
   "cell_type": "code",
   "execution_count": 235,
   "id": "a6a831ef",
   "metadata": {
    "id": "a6a831ef"
   },
   "outputs": [],
   "source": [
    "# Create a series of genre counts counts\n",
    "genre_counts = music_set.genres_list.value_counts()"
   ]
  },
  {
   "cell_type": "code",
   "execution_count": 236,
   "id": "_MhJxTyTDwYT",
   "metadata": {
    "id": "_MhJxTyTDwYT"
   },
   "outputs": [],
   "source": [
    "# Filters genres to those containing more than 500 entries.\n",
    "# There are a remarkable amount of genres/sub-genres, so this narrows the list appropriately.\n",
    "new_genres = genre_counts[genre_counts >=500].index "
   ]
  },
  {
   "cell_type": "code",
   "execution_count": 237,
   "id": "54904c43",
   "metadata": {
    "id": "54904c43"
   },
   "outputs": [],
   "source": [
    "# Creates new dataframe of only selected features\n",
    "music_set_filtered = music_set[(music_set['genres_list'] != \"'unknown'\") & music_set['genres_list'].isin(new_genres) ]"
   ]
  },
  {
   "cell_type": "markdown",
   "id": "ee1627fc",
   "metadata": {},
   "source": [
    "## Modeling\n",
    "- Two types of models were tested\n",
    "    - Logistic Regression\n",
    "    - Dense Neural Network (DNN)\n",
    "- These models are created to illustrate base cases for the Spotify data.\n",
    "- Specifically for the DNN, data needs to be in the correct \"shape\".\n",
    "    - DNN: (n, n)\n",
    "- Data is also split into 3 sets\n",
    "    - Training set: For the model to train on\n",
    "    - Validation set: For the model to compare against while training\n",
    "    - Test set: A set unsees by the model until the end for final testing"
   ]
  },
  {
   "cell_type": "code",
   "execution_count": 238,
   "id": "9ab002e3",
   "metadata": {
    "id": "9ab002e3"
   },
   "outputs": [],
   "source": [
    "# Define features (X) and target (y)\n",
    "X = music_set_filtered.drop(columns='genres_list')\n",
    "y = music_set_filtered.genres_list"
   ]
  },
  {
   "cell_type": "code",
   "execution_count": 239,
   "id": "14f4162c",
   "metadata": {
    "id": "14f4162c"
   },
   "outputs": [],
   "source": [
    "# One-Hot Encode 'key'\n",
    "X = pd.get_dummies(columns=['key'], data=X, drop_first=True)"
   ]
  },
  {
   "cell_type": "code",
   "execution_count": 240,
   "id": "a6e51c6b",
   "metadata": {},
   "outputs": [
    {
     "name": "stdout",
     "output_type": "stream",
     "text": [
      "X training data shape: (4202, 21), y training data shape: (4202,)\n",
      "X validation data shape: (1801, 21), y validation data shape: (1801,)\n"
     ]
    }
   ],
   "source": [
    "# Train-validation-test Split\n",
    "X_train, X_test, y_train, y_test = train_test_split(X, y, test_size=0.3, random_state=42, stratify=y)\n",
    "X_train, X_val, y_train, y_val = train_test_split(X_train, y_train, test_size=0.3, random_state=42, stratify=y_train)\n",
    "\n",
    "# Print shape\n",
    "print(f\"X training data shape: {X_train.shape}, y training data shape: {y_train.shape}\")\n",
    "print(f\"X validation data shape: {X_val.shape}, y validation data shape: {y_val.shape}\")"
   ]
  },
  {
   "cell_type": "code",
   "execution_count": 241,
   "id": "f8e987dc",
   "metadata": {},
   "outputs": [],
   "source": [
    "def plot_history(hist):\n",
    "    \"\"\"Plots the accuracy and loss for a model over the course of all epochs\n",
    "    \n",
    "    Parameters:\n",
    "        hist (keras history object): The recorded history of model.fit() to be plotted\n",
    "    \"\"\"\n",
    "    fig, axs = plt.subplots(2, 1, figsize=(8,7))\n",
    "    fig.tight_layout(pad=2)\n",
    "    \n",
    "    # Accuracy subplot\n",
    "    axs[0].plot(hist.history[\"acc\"], c='navy', label=\"Training Accuracy\")\n",
    "    axs[0].plot(hist.history[\"val_acc\"], c='orange', label=\"Validation Accuracy\")    \n",
    "    axs[0].set_ylabel(\"Accuracy\")\n",
    "    axs[0].legend(loc=\"lower right\")\n",
    "    axs[0].set_title(\"Accuracy\")\n",
    "    \n",
    "    # Error subplot\n",
    "    axs[1].plot(hist.history[\"loss\"], c='navy', label=\"Training Loss\")\n",
    "    axs[1].plot(hist.history[\"val_loss\"], c='orange', label=\"Validation Loss\")    \n",
    "    axs[1].set_ylabel(\"Loss\")\n",
    "    axs[1].set_xlabel(\"Epochs\")\n",
    "    axs[1].legend(loc=\"upper right\")\n",
    "    axs[1].set_title(\"Loss\")\n",
    "    \n",
    "    plt.show()"
   ]
  },
  {
   "cell_type": "markdown",
   "id": "KNHpIHD8FRD4",
   "metadata": {
    "id": "KNHpIHD8FRD4"
   },
   "source": [
    "### Logistic Regression\n",
    "- A simple logistic regression model was constructed using no penalty and a 'lbfgs' solver.\n",
    "- Max iterations were increased to allow the model to converge."
   ]
  },
  {
   "cell_type": "code",
   "execution_count": 242,
   "id": "4e8a737e",
   "metadata": {
    "id": "4e8a737e"
   },
   "outputs": [],
   "source": [
    "# Instantiate Logistic Regression Model\n",
    "logreg = LogisticRegression(penalty=None, solver= 'lbfgs', max_iter=10000, random_state=42)"
   ]
  },
  {
   "cell_type": "code",
   "execution_count": 243,
   "id": "71402862",
   "metadata": {
    "colab": {
     "base_uri": "https://localhost:8080/",
     "height": 164
    },
    "id": "71402862",
    "outputId": "b9e29322-b30c-4ac2-aa8f-95ce7fa056e5"
   },
   "outputs": [
    {
     "data": {
      "text/html": [
       "<style>#sk-container-id-8 {color: black;background-color: white;}#sk-container-id-8 pre{padding: 0;}#sk-container-id-8 div.sk-toggleable {background-color: white;}#sk-container-id-8 label.sk-toggleable__label {cursor: pointer;display: block;width: 100%;margin-bottom: 0;padding: 0.3em;box-sizing: border-box;text-align: center;}#sk-container-id-8 label.sk-toggleable__label-arrow:before {content: \"▸\";float: left;margin-right: 0.25em;color: #696969;}#sk-container-id-8 label.sk-toggleable__label-arrow:hover:before {color: black;}#sk-container-id-8 div.sk-estimator:hover label.sk-toggleable__label-arrow:before {color: black;}#sk-container-id-8 div.sk-toggleable__content {max-height: 0;max-width: 0;overflow: hidden;text-align: left;background-color: #f0f8ff;}#sk-container-id-8 div.sk-toggleable__content pre {margin: 0.2em;color: black;border-radius: 0.25em;background-color: #f0f8ff;}#sk-container-id-8 input.sk-toggleable__control:checked~div.sk-toggleable__content {max-height: 200px;max-width: 100%;overflow: auto;}#sk-container-id-8 input.sk-toggleable__control:checked~label.sk-toggleable__label-arrow:before {content: \"▾\";}#sk-container-id-8 div.sk-estimator input.sk-toggleable__control:checked~label.sk-toggleable__label {background-color: #d4ebff;}#sk-container-id-8 div.sk-label input.sk-toggleable__control:checked~label.sk-toggleable__label {background-color: #d4ebff;}#sk-container-id-8 input.sk-hidden--visually {border: 0;clip: rect(1px 1px 1px 1px);clip: rect(1px, 1px, 1px, 1px);height: 1px;margin: -1px;overflow: hidden;padding: 0;position: absolute;width: 1px;}#sk-container-id-8 div.sk-estimator {font-family: monospace;background-color: #f0f8ff;border: 1px dotted black;border-radius: 0.25em;box-sizing: border-box;margin-bottom: 0.5em;}#sk-container-id-8 div.sk-estimator:hover {background-color: #d4ebff;}#sk-container-id-8 div.sk-parallel-item::after {content: \"\";width: 100%;border-bottom: 1px solid gray;flex-grow: 1;}#sk-container-id-8 div.sk-label:hover label.sk-toggleable__label {background-color: #d4ebff;}#sk-container-id-8 div.sk-serial::before {content: \"\";position: absolute;border-left: 1px solid gray;box-sizing: border-box;top: 0;bottom: 0;left: 50%;z-index: 0;}#sk-container-id-8 div.sk-serial {display: flex;flex-direction: column;align-items: center;background-color: white;padding-right: 0.2em;padding-left: 0.2em;position: relative;}#sk-container-id-8 div.sk-item {position: relative;z-index: 1;}#sk-container-id-8 div.sk-parallel {display: flex;align-items: stretch;justify-content: center;background-color: white;position: relative;}#sk-container-id-8 div.sk-item::before, #sk-container-id-8 div.sk-parallel-item::before {content: \"\";position: absolute;border-left: 1px solid gray;box-sizing: border-box;top: 0;bottom: 0;left: 50%;z-index: -1;}#sk-container-id-8 div.sk-parallel-item {display: flex;flex-direction: column;z-index: 1;position: relative;background-color: white;}#sk-container-id-8 div.sk-parallel-item:first-child::after {align-self: flex-end;width: 50%;}#sk-container-id-8 div.sk-parallel-item:last-child::after {align-self: flex-start;width: 50%;}#sk-container-id-8 div.sk-parallel-item:only-child::after {width: 0;}#sk-container-id-8 div.sk-dashed-wrapped {border: 1px dashed gray;margin: 0 0.4em 0.5em 0.4em;box-sizing: border-box;padding-bottom: 0.4em;background-color: white;}#sk-container-id-8 div.sk-label label {font-family: monospace;font-weight: bold;display: inline-block;line-height: 1.2em;}#sk-container-id-8 div.sk-label-container {text-align: center;}#sk-container-id-8 div.sk-container {/* jupyter's `normalize.less` sets `[hidden] { display: none; }` but bootstrap.min.css set `[hidden] { display: none !important; }` so we also need the `!important` here to be able to override the default hidden behavior on the sphinx rendered scikit-learn.org. See: https://github.com/scikit-learn/scikit-learn/issues/21755 */display: inline-block !important;position: relative;}#sk-container-id-8 div.sk-text-repr-fallback {display: none;}</style><div id=\"sk-container-id-8\" class=\"sk-top-container\"><div class=\"sk-text-repr-fallback\"><pre>LogisticRegression(max_iter=10000, penalty=None, random_state=42)</pre><b>In a Jupyter environment, please rerun this cell to show the HTML representation or trust the notebook. <br />On GitHub, the HTML representation is unable to render, please try loading this page with nbviewer.org.</b></div><div class=\"sk-container\" hidden><div class=\"sk-item\"><div class=\"sk-estimator sk-toggleable\"><input class=\"sk-toggleable__control sk-hidden--visually\" id=\"sk-estimator-id-8\" type=\"checkbox\" checked><label for=\"sk-estimator-id-8\" class=\"sk-toggleable__label sk-toggleable__label-arrow\">LogisticRegression</label><div class=\"sk-toggleable__content\"><pre>LogisticRegression(max_iter=10000, penalty=None, random_state=42)</pre></div></div></div></div></div>"
      ],
      "text/plain": [
       "LogisticRegression(max_iter=10000, penalty=None, random_state=42)"
      ]
     },
     "execution_count": 243,
     "metadata": {},
     "output_type": "execute_result"
    }
   ],
   "source": [
    "# Fit model\n",
    "logreg.fit(X_train, y_train)"
   ]
  },
  {
   "cell_type": "code",
   "execution_count": 244,
   "id": "b66c8d16",
   "metadata": {
    "colab": {
     "base_uri": "https://localhost:8080/"
    },
    "id": "b66c8d16",
    "outputId": "a5101ede-7992-4428-8b75-ac8dd30a1fad"
   },
   "outputs": [
    {
     "name": "stdout",
     "output_type": "stream",
     "text": [
      "---- Logistic Regression -----\n",
      "Training Accuracy:    0.56116\n",
      "Validation Accuracy:  0.55525\n",
      "Testing Accuracy:     0.53206\n"
     ]
    }
   ],
   "source": [
    "# Review model performance\n",
    "print(\" Logistic Regression \".center(30, \"-\"))\n",
    "print(f'Training Accuracy:    {logreg.score(X_train, y_train).round(5)}')\n",
    "print(f'Validation Accuracy:  {logreg.score(X_val, y_val).round(5)}')\n",
    "print(f'Testing Accuracy:     {logreg.score(X_test, y_test).round(5)}')"
   ]
  },
  {
   "cell_type": "markdown",
   "id": "b35cd737",
   "metadata": {
    "id": "9e5eQcHQMPLA"
   },
   "source": [
    "### Dense Neural Network (DNN)\n",
    "- A Dense Neural Network consists of multiple dense layers ordered sequentially one after the other.\n",
    "- An 'l2' regularization penalty was leveraged to help mitigate overfitting.\n",
    "- Dropout layers were included to help mitigate overfitting.\n",
    "- Early stopping was utilized to stop fitting the model once validation accuracy plateaued"
   ]
  },
  {
   "cell_type": "code",
   "execution_count": 245,
   "id": "pfizGNV0M1r3",
   "metadata": {
    "id": "pfizGNV0M1r3"
   },
   "outputs": [],
   "source": [
    "# Encode data for Dense Neural Network\n",
    "le = LabelEncoder()\n",
    "\n",
    "encoded_y_train = le.fit_transform(y_train)\n",
    "encoded_y_val = le.transform(y_val)\n",
    "encoded_y_test = le.transform(y_test)"
   ]
  },
  {
   "cell_type": "code",
   "execution_count": 203,
   "id": "f41099c4",
   "metadata": {
    "id": "f41099c4"
   },
   "outputs": [],
   "source": [
    "# Dense Neural Network\n",
    "\n",
    "# Instantiate sequential model\n",
    "model_dnn = Sequential()\n",
    "\n",
    "# Create Dense Layers\n",
    "model_dnn.add(Dense(256, activation='relu', input_shape=(X_train.shape[1],), kernel_regularizer=l2(0.001)))\n",
    "model_dnn.add(Dropout(0.3))\n",
    "model_dnn.add(Dense(128, activation='relu', kernel_regularizer=l2(0.001)))\n",
    "model_dnn.add(Dropout(0.1))\n",
    "model_dnn.add(Dense(64, activation='relu'))\n",
    "\n",
    "# output to 8 classes for predictions\n",
    "model_dnn.add(Dense(8, activation='softmax'))"
   ]
  },
  {
   "cell_type": "code",
   "execution_count": 204,
   "id": "9d73c6a0",
   "metadata": {},
   "outputs": [
    {
     "name": "stdout",
     "output_type": "stream",
     "text": [
      "Model: \"sequential_26\"\n",
      "_________________________________________________________________\n",
      " Layer (type)                Output Shape              Param #   \n",
      "=================================================================\n",
      " dense_97 (Dense)            (None, 256)               5632      \n",
      "                                                                 \n",
      " dropout_39 (Dropout)        (None, 256)               0         \n",
      "                                                                 \n",
      " dense_98 (Dense)            (None, 128)               32896     \n",
      "                                                                 \n",
      " dropout_40 (Dropout)        (None, 128)               0         \n",
      "                                                                 \n",
      " dense_99 (Dense)            (None, 64)                8256      \n",
      "                                                                 \n",
      " dense_100 (Dense)           (None, 8)                 520       \n",
      "                                                                 \n",
      "=================================================================\n",
      "Total params: 47,304\n",
      "Trainable params: 47,304\n",
      "Non-trainable params: 0\n",
      "_________________________________________________________________\n"
     ]
    }
   ],
   "source": [
    "# Review model structure\n",
    "model_dnn.summary()"
   ]
  },
  {
   "cell_type": "code",
   "execution_count": 205,
   "id": "bd2d506e",
   "metadata": {
    "id": "bd2d506e"
   },
   "outputs": [],
   "source": [
    "# Compile\n",
    "model_dnn.compile(\n",
    "    optimizer='adam',\n",
    "    loss='sparse_categorical_crossentropy', # loss for multi-class classification\n",
    "    metrics=['acc']\n",
    ")"
   ]
  },
  {
   "cell_type": "code",
   "execution_count": 206,
   "id": "a5000fec",
   "metadata": {},
   "outputs": [],
   "source": [
    "# Create an early stopping callback\n",
    "es = EarlyStopping(monitor='val_loss', patience=15, min_delta=0) "
   ]
  },
  {
   "cell_type": "code",
   "execution_count": 207,
   "id": "078c7979",
   "metadata": {
    "colab": {
     "base_uri": "https://localhost:8080/"
    },
    "id": "078c7979",
    "outputId": "d128efaf-9daa-4342-a6f5-73f18625b442",
    "scrolled": true
   },
   "outputs": [
    {
     "name": "stdout",
     "output_type": "stream",
     "text": [
      "Epoch 1/1000\n",
      "66/66 [==============================] - 1s 10ms/step - loss: 3.1917 - acc: 0.1890 - val_loss: 2.1404 - val_acc: 0.2937\n",
      "Epoch 2/1000\n",
      "66/66 [==============================] - 0s 6ms/step - loss: 2.1979 - acc: 0.2344 - val_loss: 2.0749 - val_acc: 0.2937\n",
      "Epoch 3/1000\n",
      "66/66 [==============================] - 0s 6ms/step - loss: 2.1109 - acc: 0.2515 - val_loss: 2.0340 - val_acc: 0.2937\n",
      "Epoch 4/1000\n",
      "66/66 [==============================] - 0s 6ms/step - loss: 2.0645 - acc: 0.2718 - val_loss: 1.9950 - val_acc: 0.3009\n",
      "Epoch 5/1000\n",
      "66/66 [==============================] - 0s 6ms/step - loss: 2.0276 - acc: 0.2984 - val_loss: 1.9689 - val_acc: 0.3071\n",
      "Epoch 6/1000\n",
      "66/66 [==============================] - 0s 6ms/step - loss: 1.9815 - acc: 0.3039 - val_loss: 1.9448 - val_acc: 0.3226\n",
      "Epoch 7/1000\n",
      "66/66 [==============================] - 0s 7ms/step - loss: 1.9703 - acc: 0.3132 - val_loss: 1.9378 - val_acc: 0.3226\n",
      "Epoch 8/1000\n",
      "66/66 [==============================] - 1s 8ms/step - loss: 1.9501 - acc: 0.3168 - val_loss: 1.9175 - val_acc: 0.3243\n",
      "Epoch 9/1000\n",
      "66/66 [==============================] - 1s 8ms/step - loss: 1.9296 - acc: 0.3222 - val_loss: 1.9159 - val_acc: 0.3248\n",
      "Epoch 10/1000\n",
      "66/66 [==============================] - 1s 8ms/step - loss: 1.9223 - acc: 0.3218 - val_loss: 1.8997 - val_acc: 0.3254\n",
      "Epoch 11/1000\n",
      "66/66 [==============================] - 1s 8ms/step - loss: 1.9079 - acc: 0.3270 - val_loss: 1.8931 - val_acc: 0.3243\n",
      "Epoch 12/1000\n",
      "66/66 [==============================] - 0s 7ms/step - loss: 1.9035 - acc: 0.3256 - val_loss: 1.8906 - val_acc: 0.3254\n",
      "Epoch 13/1000\n",
      "66/66 [==============================] - 0s 7ms/step - loss: 1.8972 - acc: 0.3267 - val_loss: 1.8859 - val_acc: 0.3243\n",
      "Epoch 14/1000\n",
      "66/66 [==============================] - 1s 8ms/step - loss: 1.8965 - acc: 0.3265 - val_loss: 1.8843 - val_acc: 0.3198\n",
      "Epoch 15/1000\n",
      "66/66 [==============================] - 1s 8ms/step - loss: 1.8912 - acc: 0.3263 - val_loss: 1.8786 - val_acc: 0.3254\n",
      "Epoch 16/1000\n",
      "66/66 [==============================] - 1s 8ms/step - loss: 1.8809 - acc: 0.3337 - val_loss: 1.8731 - val_acc: 0.3304\n",
      "Epoch 17/1000\n",
      "66/66 [==============================] - 1s 8ms/step - loss: 1.8829 - acc: 0.3327 - val_loss: 1.8700 - val_acc: 0.3276\n",
      "Epoch 18/1000\n",
      "66/66 [==============================] - 1s 8ms/step - loss: 1.8738 - acc: 0.3327 - val_loss: 1.8676 - val_acc: 0.3248\n",
      "Epoch 19/1000\n",
      "66/66 [==============================] - 1s 8ms/step - loss: 1.8691 - acc: 0.3315 - val_loss: 1.8603 - val_acc: 0.3287\n",
      "Epoch 20/1000\n",
      "66/66 [==============================] - 1s 8ms/step - loss: 1.8738 - acc: 0.3308 - val_loss: 1.8739 - val_acc: 0.3226\n",
      "Epoch 21/1000\n",
      "66/66 [==============================] - 1s 8ms/step - loss: 1.8609 - acc: 0.3339 - val_loss: 1.8607 - val_acc: 0.3309\n",
      "Epoch 22/1000\n",
      "66/66 [==============================] - 1s 8ms/step - loss: 1.8594 - acc: 0.3360 - val_loss: 1.8564 - val_acc: 0.3254\n",
      "Epoch 23/1000\n",
      "66/66 [==============================] - 1s 8ms/step - loss: 1.8510 - acc: 0.3337 - val_loss: 1.8540 - val_acc: 0.3298\n",
      "Epoch 24/1000\n",
      "66/66 [==============================] - 1s 8ms/step - loss: 1.8486 - acc: 0.3327 - val_loss: 1.8486 - val_acc: 0.3309\n",
      "Epoch 25/1000\n",
      "66/66 [==============================] - 1s 8ms/step - loss: 1.8450 - acc: 0.3334 - val_loss: 1.8475 - val_acc: 0.3320\n",
      "Epoch 26/1000\n",
      "66/66 [==============================] - 1s 8ms/step - loss: 1.8379 - acc: 0.3375 - val_loss: 1.8434 - val_acc: 0.3309\n",
      "Epoch 27/1000\n",
      "66/66 [==============================] - 1s 8ms/step - loss: 1.8365 - acc: 0.3332 - val_loss: 1.8473 - val_acc: 0.3282\n",
      "Epoch 28/1000\n",
      "66/66 [==============================] - 1s 8ms/step - loss: 1.8378 - acc: 0.3398 - val_loss: 1.8349 - val_acc: 0.3320\n",
      "Epoch 29/1000\n",
      "66/66 [==============================] - 1s 8ms/step - loss: 1.8322 - acc: 0.3396 - val_loss: 1.8323 - val_acc: 0.3343\n",
      "Epoch 30/1000\n",
      "66/66 [==============================] - 1s 8ms/step - loss: 1.8326 - acc: 0.3386 - val_loss: 1.8560 - val_acc: 0.3309\n",
      "Epoch 31/1000\n",
      "66/66 [==============================] - 1s 8ms/step - loss: 1.8316 - acc: 0.3382 - val_loss: 1.8352 - val_acc: 0.3315\n",
      "Epoch 32/1000\n",
      "66/66 [==============================] - 1s 8ms/step - loss: 1.8215 - acc: 0.3401 - val_loss: 1.8348 - val_acc: 0.3331\n",
      "Epoch 33/1000\n",
      "66/66 [==============================] - 1s 8ms/step - loss: 1.8274 - acc: 0.3375 - val_loss: 1.8215 - val_acc: 0.3381\n",
      "Epoch 34/1000\n",
      "66/66 [==============================] - 1s 8ms/step - loss: 1.8207 - acc: 0.3396 - val_loss: 1.8228 - val_acc: 0.3348\n",
      "Epoch 35/1000\n",
      "66/66 [==============================] - 1s 8ms/step - loss: 1.8133 - acc: 0.3377 - val_loss: 1.8240 - val_acc: 0.3354\n",
      "Epoch 36/1000\n",
      "66/66 [==============================] - 1s 8ms/step - loss: 1.8088 - acc: 0.3394 - val_loss: 1.8185 - val_acc: 0.3393\n",
      "Epoch 37/1000\n",
      "66/66 [==============================] - 1s 8ms/step - loss: 1.8002 - acc: 0.3386 - val_loss: 1.8065 - val_acc: 0.3370\n",
      "Epoch 38/1000\n",
      "66/66 [==============================] - 0s 7ms/step - loss: 1.7998 - acc: 0.3453 - val_loss: 1.8026 - val_acc: 0.3393\n",
      "Epoch 39/1000\n",
      "66/66 [==============================] - 0s 7ms/step - loss: 1.8065 - acc: 0.3422 - val_loss: 1.8416 - val_acc: 0.3370\n",
      "Epoch 40/1000\n",
      "66/66 [==============================] - 0s 7ms/step - loss: 1.7946 - acc: 0.3446 - val_loss: 1.7970 - val_acc: 0.3404\n",
      "Epoch 41/1000\n",
      "66/66 [==============================] - 1s 8ms/step - loss: 1.7849 - acc: 0.3491 - val_loss: 1.7948 - val_acc: 0.3415\n",
      "Epoch 42/1000\n",
      "66/66 [==============================] - 1s 8ms/step - loss: 1.7832 - acc: 0.3489 - val_loss: 1.7926 - val_acc: 0.3448\n",
      "Epoch 43/1000\n",
      "66/66 [==============================] - 1s 8ms/step - loss: 1.7751 - acc: 0.3460 - val_loss: 1.8033 - val_acc: 0.3487\n",
      "Epoch 44/1000\n",
      "66/66 [==============================] - 1s 8ms/step - loss: 1.7841 - acc: 0.3567 - val_loss: 1.7805 - val_acc: 0.3504\n",
      "Epoch 45/1000\n",
      "66/66 [==============================] - 1s 8ms/step - loss: 1.7624 - acc: 0.3601 - val_loss: 1.7804 - val_acc: 0.3493\n",
      "Epoch 46/1000\n",
      "66/66 [==============================] - 1s 8ms/step - loss: 1.7658 - acc: 0.3634 - val_loss: 1.7654 - val_acc: 0.3681\n",
      "Epoch 47/1000\n",
      "66/66 [==============================] - 1s 8ms/step - loss: 1.7672 - acc: 0.3634 - val_loss: 1.8030 - val_acc: 0.3409\n",
      "Epoch 48/1000\n",
      "66/66 [==============================] - 1s 8ms/step - loss: 1.7526 - acc: 0.3655 - val_loss: 1.7725 - val_acc: 0.3687\n",
      "Epoch 49/1000\n",
      "66/66 [==============================] - 1s 8ms/step - loss: 1.7379 - acc: 0.3782 - val_loss: 1.7447 - val_acc: 0.3792\n",
      "Epoch 50/1000\n",
      "66/66 [==============================] - 1s 8ms/step - loss: 1.7402 - acc: 0.3722 - val_loss: 1.7409 - val_acc: 0.3803\n",
      "Epoch 51/1000\n",
      "66/66 [==============================] - 1s 8ms/step - loss: 1.7196 - acc: 0.3824 - val_loss: 1.7251 - val_acc: 0.3920\n",
      "Epoch 52/1000\n",
      "66/66 [==============================] - 1s 8ms/step - loss: 1.7219 - acc: 0.3722 - val_loss: 1.7691 - val_acc: 0.3548\n",
      "Epoch 53/1000\n",
      "66/66 [==============================] - 1s 8ms/step - loss: 1.7050 - acc: 0.3779 - val_loss: 1.7033 - val_acc: 0.3953\n",
      "Epoch 54/1000\n",
      "66/66 [==============================] - 1s 8ms/step - loss: 1.7165 - acc: 0.3779 - val_loss: 1.7083 - val_acc: 0.3848\n",
      "Epoch 55/1000\n",
      "66/66 [==============================] - 1s 8ms/step - loss: 1.6978 - acc: 0.3817 - val_loss: 1.7384 - val_acc: 0.3737\n",
      "Epoch 56/1000\n",
      "66/66 [==============================] - 1s 8ms/step - loss: 1.6895 - acc: 0.3870 - val_loss: 1.6845 - val_acc: 0.4059\n",
      "Epoch 57/1000\n",
      "66/66 [==============================] - 1s 8ms/step - loss: 1.6694 - acc: 0.4046 - val_loss: 1.6863 - val_acc: 0.4026\n",
      "Epoch 58/1000\n",
      "66/66 [==============================] - 1s 8ms/step - loss: 1.6743 - acc: 0.3924 - val_loss: 1.6710 - val_acc: 0.4042\n",
      "Epoch 59/1000\n",
      "66/66 [==============================] - 1s 8ms/step - loss: 1.6630 - acc: 0.3936 - val_loss: 1.6479 - val_acc: 0.4187\n",
      "Epoch 60/1000\n",
      "66/66 [==============================] - 1s 8ms/step - loss: 1.6709 - acc: 0.3958 - val_loss: 1.6551 - val_acc: 0.4137\n",
      "Epoch 61/1000\n",
      "66/66 [==============================] - 1s 8ms/step - loss: 1.6362 - acc: 0.4077 - val_loss: 1.6397 - val_acc: 0.4114\n",
      "Epoch 62/1000\n",
      "66/66 [==============================] - 1s 8ms/step - loss: 1.6646 - acc: 0.3929 - val_loss: 1.6358 - val_acc: 0.4164\n",
      "Epoch 63/1000\n",
      "66/66 [==============================] - 0s 8ms/step - loss: 1.6374 - acc: 0.4058 - val_loss: 1.6294 - val_acc: 0.4242\n",
      "Epoch 64/1000\n",
      "66/66 [==============================] - 0s 8ms/step - loss: 1.6345 - acc: 0.4041 - val_loss: 1.6168 - val_acc: 0.4253\n",
      "Epoch 65/1000\n",
      "66/66 [==============================] - 0s 7ms/step - loss: 1.6155 - acc: 0.4148 - val_loss: 1.6111 - val_acc: 0.4203\n",
      "Epoch 66/1000\n",
      "66/66 [==============================] - 0s 7ms/step - loss: 1.6027 - acc: 0.4124 - val_loss: 1.5656 - val_acc: 0.4459\n",
      "Epoch 67/1000\n",
      "66/66 [==============================] - 0s 7ms/step - loss: 1.5824 - acc: 0.4208 - val_loss: 1.5673 - val_acc: 0.4342\n",
      "Epoch 68/1000\n",
      "66/66 [==============================] - 0s 8ms/step - loss: 1.5842 - acc: 0.4193 - val_loss: 1.5384 - val_acc: 0.4575\n",
      "Epoch 69/1000\n",
      "66/66 [==============================] - 1s 9ms/step - loss: 1.5700 - acc: 0.4236 - val_loss: 1.5382 - val_acc: 0.4409\n",
      "Epoch 70/1000\n",
      "66/66 [==============================] - 1s 8ms/step - loss: 1.5572 - acc: 0.4365 - val_loss: 1.5039 - val_acc: 0.4686\n",
      "Epoch 71/1000\n",
      "66/66 [==============================] - 1s 8ms/step - loss: 1.5540 - acc: 0.4393 - val_loss: 1.5553 - val_acc: 0.4359\n",
      "Epoch 72/1000\n",
      "66/66 [==============================] - 1s 8ms/step - loss: 1.5417 - acc: 0.4498 - val_loss: 1.5027 - val_acc: 0.4659\n",
      "Epoch 73/1000\n",
      "66/66 [==============================] - 1s 8ms/step - loss: 1.5116 - acc: 0.4562 - val_loss: 1.4705 - val_acc: 0.4981\n",
      "Epoch 74/1000\n",
      "66/66 [==============================] - 1s 8ms/step - loss: 1.5134 - acc: 0.4667 - val_loss: 1.4728 - val_acc: 0.4925\n",
      "Epoch 75/1000\n",
      "66/66 [==============================] - 0s 8ms/step - loss: 1.5455 - acc: 0.4519 - val_loss: 1.5618 - val_acc: 0.4720\n",
      "Epoch 76/1000\n",
      "66/66 [==============================] - 1s 8ms/step - loss: 1.5237 - acc: 0.4581 - val_loss: 1.4533 - val_acc: 0.5014\n",
      "Epoch 77/1000\n",
      "66/66 [==============================] - 1s 8ms/step - loss: 1.4846 - acc: 0.4683 - val_loss: 1.4533 - val_acc: 0.4992\n",
      "Epoch 78/1000\n",
      "66/66 [==============================] - 0s 8ms/step - loss: 1.4998 - acc: 0.4619 - val_loss: 1.4583 - val_acc: 0.4947\n",
      "Epoch 79/1000\n",
      "66/66 [==============================] - 1s 8ms/step - loss: 1.5079 - acc: 0.4600 - val_loss: 1.4953 - val_acc: 0.4575\n",
      "Epoch 80/1000\n",
      "66/66 [==============================] - 1s 8ms/step - loss: 1.4994 - acc: 0.4643 - val_loss: 1.4418 - val_acc: 0.5069\n",
      "Epoch 81/1000\n",
      "66/66 [==============================] - 1s 8ms/step - loss: 1.4739 - acc: 0.4743 - val_loss: 1.4958 - val_acc: 0.4714\n",
      "Epoch 82/1000\n",
      "66/66 [==============================] - 1s 8ms/step - loss: 1.4845 - acc: 0.4762 - val_loss: 1.5265 - val_acc: 0.4570\n",
      "Epoch 83/1000\n",
      "66/66 [==============================] - 1s 8ms/step - loss: 1.4977 - acc: 0.4736 - val_loss: 1.4407 - val_acc: 0.5019\n",
      "Epoch 84/1000\n",
      "66/66 [==============================] - 1s 8ms/step - loss: 1.4874 - acc: 0.4660 - val_loss: 1.4528 - val_acc: 0.4964\n",
      "Epoch 85/1000\n",
      "66/66 [==============================] - 0s 8ms/step - loss: 1.4762 - acc: 0.4769 - val_loss: 1.4809 - val_acc: 0.4831\n",
      "Epoch 86/1000\n",
      "66/66 [==============================] - 1s 8ms/step - loss: 1.5003 - acc: 0.4743 - val_loss: 1.4511 - val_acc: 0.5036\n",
      "Epoch 87/1000\n",
      "66/66 [==============================] - 1s 8ms/step - loss: 1.4897 - acc: 0.4719 - val_loss: 1.5317 - val_acc: 0.4642\n",
      "Epoch 88/1000\n",
      "66/66 [==============================] - 1s 8ms/step - loss: 1.4753 - acc: 0.4783 - val_loss: 1.4256 - val_acc: 0.5125\n",
      "Epoch 89/1000\n",
      "66/66 [==============================] - 1s 8ms/step - loss: 1.4785 - acc: 0.4703 - val_loss: 1.4782 - val_acc: 0.4731\n",
      "Epoch 90/1000\n",
      "66/66 [==============================] - 1s 8ms/step - loss: 1.4765 - acc: 0.4745 - val_loss: 1.4690 - val_acc: 0.4864\n",
      "Epoch 91/1000\n",
      "66/66 [==============================] - 1s 8ms/step - loss: 1.4620 - acc: 0.4829 - val_loss: 1.4457 - val_acc: 0.4925\n",
      "Epoch 92/1000\n",
      "66/66 [==============================] - 0s 7ms/step - loss: 1.4717 - acc: 0.4860 - val_loss: 1.4291 - val_acc: 0.5058\n",
      "Epoch 93/1000\n",
      "66/66 [==============================] - 0s 7ms/step - loss: 1.4679 - acc: 0.4783 - val_loss: 1.4345 - val_acc: 0.5053\n",
      "Epoch 94/1000\n",
      "66/66 [==============================] - 0s 7ms/step - loss: 1.4753 - acc: 0.4760 - val_loss: 1.4320 - val_acc: 0.5019\n",
      "Epoch 95/1000\n",
      "66/66 [==============================] - 1s 8ms/step - loss: 1.4720 - acc: 0.4850 - val_loss: 1.4100 - val_acc: 0.5203\n",
      "Epoch 96/1000\n",
      "66/66 [==============================] - 1s 8ms/step - loss: 1.4632 - acc: 0.4807 - val_loss: 1.4148 - val_acc: 0.5175\n",
      "Epoch 97/1000\n",
      "66/66 [==============================] - 1s 8ms/step - loss: 1.4625 - acc: 0.4836 - val_loss: 1.4252 - val_acc: 0.5008\n",
      "Epoch 98/1000\n",
      "66/66 [==============================] - 1s 8ms/step - loss: 1.4530 - acc: 0.4876 - val_loss: 1.4224 - val_acc: 0.5081\n",
      "Epoch 99/1000\n",
      "66/66 [==============================] - 1s 8ms/step - loss: 1.4633 - acc: 0.4871 - val_loss: 1.4121 - val_acc: 0.5069\n",
      "Epoch 100/1000\n",
      "66/66 [==============================] - 1s 8ms/step - loss: 1.4553 - acc: 0.4869 - val_loss: 1.4570 - val_acc: 0.4870\n",
      "Epoch 101/1000\n",
      "66/66 [==============================] - 1s 8ms/step - loss: 1.4710 - acc: 0.4852 - val_loss: 1.4150 - val_acc: 0.5147\n",
      "Epoch 102/1000\n",
      "66/66 [==============================] - 1s 8ms/step - loss: 1.4635 - acc: 0.4833 - val_loss: 1.4065 - val_acc: 0.5225\n",
      "Epoch 103/1000\n",
      "66/66 [==============================] - 0s 8ms/step - loss: 1.4409 - acc: 0.4936 - val_loss: 1.4087 - val_acc: 0.5108\n",
      "Epoch 104/1000\n",
      "66/66 [==============================] - 1s 8ms/step - loss: 1.4400 - acc: 0.4938 - val_loss: 1.4101 - val_acc: 0.5192\n",
      "Epoch 105/1000\n",
      "66/66 [==============================] - 1s 8ms/step - loss: 1.4404 - acc: 0.4891 - val_loss: 1.4230 - val_acc: 0.5058\n",
      "Epoch 106/1000\n",
      "66/66 [==============================] - 1s 8ms/step - loss: 1.4476 - acc: 0.4895 - val_loss: 1.4566 - val_acc: 0.4881\n",
      "Epoch 107/1000\n",
      "66/66 [==============================] - 1s 8ms/step - loss: 1.4379 - acc: 0.4917 - val_loss: 1.4327 - val_acc: 0.4919\n",
      "Epoch 108/1000\n",
      "66/66 [==============================] - 1s 8ms/step - loss: 1.4346 - acc: 0.4983 - val_loss: 1.3901 - val_acc: 0.5203\n",
      "Epoch 109/1000\n",
      "66/66 [==============================] - 1s 8ms/step - loss: 1.4330 - acc: 0.4912 - val_loss: 1.3971 - val_acc: 0.5286\n",
      "Epoch 110/1000\n",
      "66/66 [==============================] - 1s 8ms/step - loss: 1.4359 - acc: 0.4895 - val_loss: 1.4119 - val_acc: 0.5253\n",
      "Epoch 111/1000\n",
      "66/66 [==============================] - 1s 8ms/step - loss: 1.4472 - acc: 0.4971 - val_loss: 1.4349 - val_acc: 0.4897\n",
      "Epoch 112/1000\n",
      "66/66 [==============================] - 1s 8ms/step - loss: 1.4345 - acc: 0.4964 - val_loss: 1.4289 - val_acc: 0.4942\n",
      "Epoch 113/1000\n",
      "66/66 [==============================] - 1s 8ms/step - loss: 1.4389 - acc: 0.4929 - val_loss: 1.4295 - val_acc: 0.5036\n",
      "Epoch 114/1000\n",
      "66/66 [==============================] - 1s 8ms/step - loss: 1.4516 - acc: 0.4822 - val_loss: 1.4218 - val_acc: 0.5086\n",
      "Epoch 115/1000\n",
      "66/66 [==============================] - 1s 8ms/step - loss: 1.4627 - acc: 0.4871 - val_loss: 1.4074 - val_acc: 0.5069\n",
      "Epoch 116/1000\n",
      "66/66 [==============================] - 1s 8ms/step - loss: 1.4480 - acc: 0.4895 - val_loss: 1.4135 - val_acc: 0.4958\n",
      "Epoch 117/1000\n",
      "66/66 [==============================] - 1s 8ms/step - loss: 1.4544 - acc: 0.4964 - val_loss: 1.4392 - val_acc: 0.5069\n",
      "Epoch 118/1000\n",
      "66/66 [==============================] - 1s 8ms/step - loss: 1.4467 - acc: 0.4933 - val_loss: 1.4200 - val_acc: 0.5075\n",
      "Epoch 119/1000\n",
      "66/66 [==============================] - 0s 7ms/step - loss: 1.4486 - acc: 0.4948 - val_loss: 1.4036 - val_acc: 0.5136\n",
      "Epoch 120/1000\n",
      "66/66 [==============================] - 0s 7ms/step - loss: 1.4395 - acc: 0.4886 - val_loss: 1.4389 - val_acc: 0.5014\n",
      "Epoch 121/1000\n",
      "66/66 [==============================] - 0s 7ms/step - loss: 1.4500 - acc: 0.4900 - val_loss: 1.4113 - val_acc: 0.4986\n",
      "Epoch 122/1000\n",
      "66/66 [==============================] - 1s 8ms/step - loss: 1.4363 - acc: 0.4929 - val_loss: 1.4197 - val_acc: 0.5036\n",
      "Epoch 123/1000\n"
     ]
    },
    {
     "name": "stdout",
     "output_type": "stream",
     "text": [
      "66/66 [==============================] - 1s 8ms/step - loss: 1.4412 - acc: 0.4874 - val_loss: 1.4094 - val_acc: 0.5158\n",
      "CPU times: total: 5min 54s\n",
      "Wall time: 1min 3s\n"
     ]
    }
   ],
   "source": [
    "%%time\n",
    "# Train the model\n",
    "hist = model_dnn.fit(\n",
    "    X_train, encoded_y_train,\n",
    "    epochs=1000,\n",
    "    batch_size=64,\n",
    "    validation_data=(X_val, encoded_y_val),\n",
    "    verbose=1,\n",
    "    callbacks=[es]\n",
    ")"
   ]
  },
  {
   "cell_type": "code",
   "execution_count": 208,
   "id": "5015c422",
   "metadata": {},
   "outputs": [
    {
     "name": "stdout",
     "output_type": "stream",
     "text": [
      "81/81 [==============================] - 0s 3ms/step - loss: 1.4044 - acc: 0.5146\n",
      "Test Loss: 1.4044018983840942\n",
      "Test Accuracy: 0.514574408531189\n"
     ]
    }
   ],
   "source": [
    "loss_dnn, acc_dnn = model_dnn.evaluate(X_test, encoded_y_test)\n",
    "print(f\"Test Loss: {loss_dnn}\")\n",
    "print(f\"Test Accuracy: {acc_dnn}\")"
   ]
  },
  {
   "cell_type": "code",
   "execution_count": 209,
   "id": "113c1b20",
   "metadata": {},
   "outputs": [
    {
     "data": {
      "image/png": "[encoded data removed]",
      "text/plain": [
       "<Figure size 800x700 with 2 Axes>"
      ]
     },
     "metadata": {},
     "output_type": "display_data"
    }
   ],
   "source": [
    "plot_history(hist)"
   ]
  },
  {
   "cell_type": "markdown",
   "id": "051321f2",
   "metadata": {},
   "source": [
    "### Model Performance Summary\n",
    "Below are the final performance metrics for both models that were tested on the tabular audio feature data.\n",
    "\n",
    "|**Model**|**Accuracy**|\n",
    "|---|---|\n",
    "|**Logistic Regression**|0.532|\n",
    "|**Dense Neural Network (DNN)**|0.515|"
   ]
  },
  {
   "cell_type": "markdown",
   "id": "2PJeOoFuHB6u",
   "metadata": {
    "id": "2PJeOoFuHB6u"
   },
   "source": [
    "## Conclusions\n",
    "### Spotify Tabular Audio Data Summary\n",
    "- In this notebook we reviewed tabular audio feature data from Spotify's web API.\n",
    "- We processed the data to be the correct format to train both logistic regression and dense neural network models.\n",
    "- We achieved a test-case accuracy of 0.532, an improvement over the base case accuracy of 0.125.\n",
    "- With further iteration, these models could be improved. However, using this tabular data requires music preprocessing to find the features used for fitting, which takes time and resources.\n",
    "- Additionally, during this process the genre itself could be surmised during preprocessing.\n",
    "- This study will be used to compare the neural networks that process raw audio data in the other notebooks."
   ]
  }
 ],
 "metadata": {
  "accelerator": "GPU",
  "colab": {
   "provenance": []
  },
  "gpuClass": "standard",
  "kernelspec": {
   "display_name": "Python 3 (ipykernel)",
   "language": "python",
   "name": "python3"
  },
  "language_info": {
   "codemirror_mode": {
    "name": "ipython",
    "version": 3
   },
   "file_extension": ".py",
   "mimetype": "text/x-python",
   "name": "python",
   "nbconvert_exporter": "python",
   "pygments_lexer": "ipython3",
   "version": "3.9.16"
  }
 },
 "nbformat": 4,
 "nbformat_minor": 5
}
