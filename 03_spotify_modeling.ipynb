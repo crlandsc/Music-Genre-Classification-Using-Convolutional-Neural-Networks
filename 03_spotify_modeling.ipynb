{
  "cells": [
    {
      "cell_type": "markdown",
      "id": "cc1c325d",
      "metadata": {
        "id": "cc1c325d"
      },
      "source": [
        "# Non-CNN Classification Models"
      ]
    },
    {
      "cell_type": "markdown",
      "id": "8860a3e2",
      "metadata": {
        "id": "8860a3e2"
      },
      "source": [
        "In this notebook we seek to make predictive models that do not rely on time frequency analysis.\n",
        "We will use Spotify's API in order to get song data to fit a logistic regression and a dense neural network to discern genre. This model will serve as another benchmark of success for our CNNs, a way to see how tabular data might serve for the purpose of this project. "
      ]
    },
    {
      "cell_type": "markdown",
      "id": "839c2aaf",
      "metadata": {
        "id": "839c2aaf"
      },
      "source": [
        "### Imports:"
      ]
    },
    {
      "cell_type": "code",
      "source": [
        "!pip install Spotipy #needed for google colab notebooks to interact with the spotify api on python"
      ],
      "metadata": {
        "colab": {
          "base_uri": "https://localhost:8080/"
        },
        "id": "72pffZ5m-6Me",
        "outputId": "c6fdbebe-34ff-4ec4-8eac-7d6044b6f72f"
      },
      "id": "72pffZ5m-6Me",
      "execution_count": null,
      "outputs": [
        {
          "output_type": "stream",
          "name": "stdout",
          "text": [
            "Looking in indexes: https://pypi.org/simple, https://us-python.pkg.dev/colab-wheels/public/simple/\n",
            "Collecting Spotipy\n",
            "  Downloading spotipy-2.22.1-py3-none-any.whl (28 kB)\n",
            "Requirement already satisfied: six>=1.15.0 in /usr/local/lib/python3.9/dist-packages (from Spotipy) (1.16.0)\n",
            "Collecting redis>=3.5.3\n",
            "  Downloading redis-4.5.3-py3-none-any.whl (238 kB)\n",
            "\u001b[2K     \u001b[90m━━━━━━━━━━━━━━━━━━━━━━━━━━━━━━━━━━━━━━\u001b[0m \u001b[32m238.6/238.6 KB\u001b[0m \u001b[31m14.2 MB/s\u001b[0m eta \u001b[36m0:00:00\u001b[0m\n",
            "\u001b[?25hRequirement already satisfied: urllib3>=1.26.0 in /usr/local/lib/python3.9/dist-packages (from Spotipy) (1.26.15)\n",
            "Requirement already satisfied: requests>=2.25.0 in /usr/local/lib/python3.9/dist-packages (from Spotipy) (2.27.1)\n",
            "Collecting async-timeout>=4.0.2\n",
            "  Downloading async_timeout-4.0.2-py3-none-any.whl (5.8 kB)\n",
            "Requirement already satisfied: idna<4,>=2.5 in /usr/local/lib/python3.9/dist-packages (from requests>=2.25.0->Spotipy) (3.4)\n",
            "Requirement already satisfied: charset-normalizer~=2.0.0 in /usr/local/lib/python3.9/dist-packages (from requests>=2.25.0->Spotipy) (2.0.12)\n",
            "Requirement already satisfied: certifi>=2017.4.17 in /usr/local/lib/python3.9/dist-packages (from requests>=2.25.0->Spotipy) (2022.12.7)\n",
            "Installing collected packages: async-timeout, redis, Spotipy\n",
            "Successfully installed Spotipy-2.22.1 async-timeout-4.0.2 redis-4.5.3\n"
          ]
        }
      ]
    },
    {
      "cell_type": "code",
      "execution_count": null,
      "id": "c3ec3f70",
      "metadata": {
        "id": "c3ec3f70"
      },
      "outputs": [],
      "source": [
        "import numpy as np\n",
        "import pandas as pd\n",
        "import matplotlib.pyplot as plt\n",
        "import spotipy\n",
        "from spotipy import SpotifyClientCredentials\n",
        "\n",
        "from sklearn.model_selection import train_test_split\n",
        "from sklearn.linear_model import LogisticRegression\n",
        "from sklearn.preprocessing import StandardScaler\n",
        "\n",
        "from tensorflow.keras.models import Sequential\n",
        "from tensorflow.keras.layers import Dense\n"
      ]
    },
    {
      "cell_type": "markdown",
      "source": [
        "In order to interact with the spotify API, we need client authentification. This is gained by going to the spotify for developers page and creating a new account, then starting a new project"
      ],
      "metadata": {
        "id": "Tw4dnIHLwXzd"
      },
      "id": "Tw4dnIHLwXzd"
    },
    {
      "cell_type": "code",
      "execution_count": null,
      "id": "4918d6d7",
      "metadata": {
        "id": "4918d6d7"
      },
      "outputs": [],
      "source": [
        "cid = #insert your own id\n",
        "secret = #insert your own key"
      ]
    },
    {
      "cell_type": "code",
      "execution_count": null,
      "id": "62ebcc58",
      "metadata": {
        "id": "62ebcc58"
      },
      "outputs": [],
      "source": [
        "client_credentials_manager = SpotifyClientCredentials(client_id=cid, client_secret=secret)\n",
        "spot = spotipy.Spotify(client_credentials_manager = client_credentials_manager)"
      ]
    },
    {
      "cell_type": "markdown",
      "id": "f9a1703b",
      "metadata": {
        "id": "f9a1703b"
      },
      "source": [
        "We will be using the \"Top 10,000 Songs of All Time\" playlist by Aclaimed Music to create a data frame of features with which to fit our model. We chose this playlist simply because it allows us to get a verbose dataset with no knowledge of other individual playlists. Ideally we would want to filter through several playlists, then append to an existing dataset the songs in that new playlist that are already not present, but we lack a list of playlists. Something like the Million Playlists Dataset would be appropriate, but that requires entry to the Alcrowd competition, and this section isn't the focus of our project, we merely want to provide an alternate predictive model to compare our CNN to."
      ]
    },
    {
      "cell_type": "code",
      "execution_count": null,
      "id": "1e9fd2ae",
      "metadata": {
        "id": "1e9fd2ae"
      },
      "outputs": [],
      "source": [
        "playlist_link = 'https://open.spotify.com/playlist/1G8IpkZKobrIlXcVPoSIuf?si=f819917d1bca45b8'\n",
        "playlist_URI = playlist_link.split(\"/\")[-1].split(\"?\")[0]\n",
        "big_list = []\n",
        "for i in range(0,9901,100):\n",
        "    track_uris = [x[\"track\"][\"uri\"] for x in spot.playlist_tracks(playlist_URI, limit= 100,\n",
        "                                                                                          offset= i)[\"items\"] \n",
        "                  if x[\"track\"] != None ] #exception\n",
        "    big_list.append(track_uris)\n",
        "    "
      ]
    },
    {
      "cell_type": "code",
      "execution_count": null,
      "id": "678cadd8",
      "metadata": {
        "id": "678cadd8",
        "outputId": "808e6bd0-0acc-4af1-bf27-9769c846cbda"
      },
      "outputs": [
        {
          "data": {
            "text/plain": [
              "100"
            ]
          },
          "execution_count": 5,
          "metadata": {},
          "output_type": "execute_result"
        }
      ],
      "source": [
        "len(big_list)"
      ]
    },
    {
      "cell_type": "markdown",
      "id": "adcdf175",
      "metadata": {
        "id": "adcdf175"
      },
      "source": [
        "The above loop makes changes to the offset of the calls in order to get around the limiter on the number of songs that can be extracted, which is hard coded into the functions. An important thing to note here is that some of the songs have a value of None for \"track\". This raises an error with list comprehesions, and created the need for a lot of debugging. Eventually, by attempting each individual call in increments of 100, I was able to find individual examples of what was throwing errors, and created the execption marked above"
      ]
    },
    {
      "cell_type": "code",
      "execution_count": null,
      "id": "3a6d4127",
      "metadata": {
        "id": "3a6d4127"
      },
      "outputs": [],
      "source": [
        "from itertools import chain # to compress our list of lists down"
      ]
    },
    {
      "cell_type": "code",
      "execution_count": null,
      "id": "c9182b1e",
      "metadata": {
        "id": "c9182b1e"
      },
      "outputs": [],
      "source": [
        "big_list = list(chain.from_iterable(big_list))"
      ]
    },
    {
      "cell_type": "code",
      "execution_count": null,
      "id": "959afd32",
      "metadata": {
        "id": "959afd32",
        "outputId": "0afd8737-df97-43ba-8793-7d38905bdf8c"
      },
      "outputs": [
        {
          "data": {
            "text/plain": [
              "9998"
            ]
          },
          "execution_count": 8,
          "metadata": {},
          "output_type": "execute_result"
        }
      ],
      "source": [
        "len(big_list)"
      ]
    },
    {
      "cell_type": "code",
      "execution_count": null,
      "id": "ceda7dec",
      "metadata": {
        "id": "ceda7dec"
      },
      "outputs": [],
      "source": [
        "spot.track(big_list[0])"
      ]
    },
    {
      "cell_type": "markdown",
      "source": [
        "looking at how individual song uri's return, we can create the schematics for making a new data set. Because the genres of the song are not part of the json package that gets returned from calling and are instead held on the artist's uri, we need to exract the uris for each artist and extract the genres from there:"
      ],
      "metadata": {
        "id": "-EzXjm7RxJ3f"
      },
      "id": "-EzXjm7RxJ3f"
    },
    {
      "cell_type": "code",
      "execution_count": null,
      "id": "3fb500ad",
      "metadata": {
        "id": "3fb500ad",
        "outputId": "ea33b650-3867-467f-b108-0f8866ce2cd1"
      },
      "outputs": [
        {
          "data": {
            "text/plain": [
              "'spotify:artist:74ASZWbe4lXaubB36ztrGX'"
            ]
          },
          "execution_count": 263,
          "metadata": {},
          "output_type": "execute_result"
        }
      ],
      "source": [
        "elvis = spot.track(big_list[0])['album']['artists'][0]['uri']\n",
        "elvis"
      ]
    },
    {
      "cell_type": "code",
      "execution_count": null,
      "id": "c1f14f7a",
      "metadata": {
        "id": "c1f14f7a"
      },
      "outputs": [],
      "source": [
        "elvis_info = spot.artist(elvis)"
      ]
    },
    {
      "cell_type": "code",
      "execution_count": null,
      "id": "1e9985b2",
      "metadata": {
        "id": "1e9985b2",
        "outputId": "d2908189-3c7c-4f92-f56e-186a47c7b17e"
      },
      "outputs": [
        {
          "data": {
            "text/plain": [
              "'classic rock'"
            ]
          },
          "execution_count": 250,
          "metadata": {},
          "output_type": "execute_result"
        }
      ],
      "source": [
        "elvis_info['genres'][0]"
      ]
    },
    {
      "cell_type": "markdown",
      "id": "6d84fbb5",
      "metadata": {
        "id": "6d84fbb5"
      },
      "source": [
        "We can only get all the types of genres the artist makes, not the individual genres of the songs. We will assume now that each song is of the type that shows up first in genres. There are also unfortunate errors in future calls caused by the way that links are saved on the spotify servers themselves. Some songs are still playing in the app, but the links to their artist page either have been deleted, or where never logged. This creates the need to create a function that catches these missing uris and saves them so that we can delete them from the overall dataset that we're trying to create. We need to delete them alltogether because there is no other way to extract genre with the current set up of the API:"
      ]
    },
    {
      "cell_type": "code",
      "execution_count": null,
      "id": "9a571b94",
      "metadata": {
        "id": "9a571b94"
      },
      "outputs": [],
      "source": [
        "artist_uris = []\n",
        "failed_uris = []\n",
        "genres = []"
      ]
    },
    {
      "cell_type": "code",
      "execution_count": null,
      "id": "a63f3e4a",
      "metadata": {
        "id": "a63f3e4a"
      },
      "outputs": [],
      "source": [
        "#for i in big_list:\n",
        "#   try:\n",
        "#        artist_uri = spot.track(i)['album']['artists'][0]['uri'] \n",
        "#        artist_uris.append(artist_uri)\n",
        "#        genres.append(spot.artist(artist_uri)['genres'][0])\n",
        "#    except:\n",
        "#        failed_uris.append(i)\n",
        "        "
      ]
    },
    {
      "cell_type": "markdown",
      "source": [
        "The above code will give us 2 lists, one which will have the genres, our y for the data fitting, and a missing list which we would then use to eliminate missing uris from the data set. Unfortunately, the spotify API limits how many calls can be made by an individual project, so the construction of the data set is very limited. Because in order to get genres we need to call the artist uris 1 by one (there is no built in method to do this for multiple artists in one call) this process would have to take place over several days in order to complete even a moderately sized dataset. This is made even more difficult because in order to extract information about the songs using another api method we would need to make individual calls again. The code for fully creating this dataset will be laid out bellow, but because time is limited, we will use the data set that Cameron Watts and his team created in this same fashion in order to do the fitting. Cameron Watts in the article \"Extracting Song Data From the Spotify API Using Python\" laid out the basic methods for extraction that were followed up until this point, and links to his own repository where they constructed a dataset."
      ],
      "metadata": {
        "id": "6UioSFTFy2fh"
      },
      "id": "6UioSFTFy2fh"
    },
    {
      "cell_type": "code",
      "source": [
        "#filtered_uris = [ x for x in big_list if x not in failed_uris]"
      ],
      "metadata": {
        "id": "WcMMuKjcIMsZ"
      },
      "id": "WcMMuKjcIMsZ",
      "execution_count": null,
      "outputs": []
    },
    {
      "cell_type": "code",
      "source": [
        "#features = []\n",
        "#more_failed_uris = []"
      ],
      "metadata": {
        "id": "wKFqGavK3snH"
      },
      "id": "wKFqGavK3snH",
      "execution_count": null,
      "outputs": []
    },
    {
      "cell_type": "code",
      "source": [
        "#for i in filtered_uris:\n",
        "#    try:\n",
        "#        track_feature = spot.audio_features(i)[0]\n",
        "#        features.append(track_feature)\n",
        "#    except:\n",
        "#        more_failed_uris.append(i)"
      ],
      "metadata": {
        "id": "YAPX7cVP2yWm"
      },
      "id": "YAPX7cVP2yWm",
      "execution_count": null,
      "outputs": []
    },
    {
      "cell_type": "markdown",
      "source": [
        "In exactly the same we did above, in order to keep an organized list, we need to keep track of the failing calls to remove them from the data frame. This process, when successful, returns a dictionary of features which we can then utilize for construction of the dataset."
      ],
      "metadata": {
        "id": "iphcbmR74V6b"
      },
      "id": "iphcbmR74V6b"
    },
    {
      "cell_type": "code",
      "source": [
        "#refiltered_genres = []"
      ],
      "metadata": {
        "id": "0-FF5XEE7Ec2"
      },
      "id": "0-FF5XEE7Ec2",
      "execution_count": null,
      "outputs": []
    },
    {
      "cell_type": "code",
      "execution_count": null,
      "id": "d7758b92",
      "metadata": {
        "id": "d7758b92"
      },
      "outputs": [],
      "source": [
        "#re_filtered = [ x['uri'] for x in features if x not in failed_uris]\n",
        "#for i in big_list:\n",
        "#  artist_uri = spot.track(i)['album']['artists'][0]['uri'] \n",
        "#  refiltered_genres.append(spot.artist(artist_uri)['genres'][0])\n",
        "        "
      ]
    },
    {
      "cell_type": "markdown",
      "source": [
        "We now have 2 lists to use for our dataset, one a list of dictioaries and another a list of genres. we can cast them both as a dataframe and have the data we want for fitting:"
      ],
      "metadata": {
        "id": "5VWEQrwe8FHn"
      },
      "id": "5VWEQrwe8FHn"
    },
    {
      "cell_type": "code",
      "execution_count": null,
      "id": "f3e8a16b",
      "metadata": {
        "id": "f3e8a16b"
      },
      "outputs": [],
      "source": [
        "#df = pd.DataFrame(data = features, columns = features[0].keys())\n",
        "#df['genre'] = \n",
        "#gen = pd.Series(refiltered_genres)\n",
        "#df['genre'] = gen.values"
      ]
    },
    {
      "cell_type": "markdown",
      "source": [
        "The above process would be able to provide us with a usable data set that could have several playlists appended together. This process would need to be done over several days, saving the dataframe of smaller calls and then appending them together into one large data frame. Below we have the modeling provess we wanted to implement on our own dataset but with the dataset created by Cameron Watts and his team:"
      ],
      "metadata": {
        "id": "3kUZH9s2U6OA"
      },
      "id": "3kUZH9s2U6OA"
    },
    {
      "cell_type": "code",
      "execution_count": null,
      "id": "3b55f5ef",
      "metadata": {
        "id": "3b55f5ef"
      },
      "outputs": [],
      "source": [
        "music_set = pd.read_csv('https://raw.githubusercontent.com/enjuichang/PracticalDataScience-ENCA/main/data/allsong_data.csv')"
      ]
    },
    {
      "cell_type": "markdown",
      "source": [
        "## EDA"
      ],
      "metadata": {
        "id": "9dKV7rCAClhf"
      },
      "id": "9dKV7rCAClhf"
    },
    {
      "cell_type": "code",
      "execution_count": null,
      "id": "d2609eb0",
      "metadata": {
        "colab": {
          "base_uri": "https://localhost:8080/",
          "height": 426
        },
        "id": "d2609eb0",
        "outputId": "07dfbf7a-9b84-431c-eaf5-e6505d56ede9"
      },
      "outputs": [
        {
          "output_type": "execute_result",
          "data": {
            "text/plain": [
              "         artist_name                      id  \\\n",
              "0      Missy Elliott  0UaMYEvWZi0ZqiDOoHU3YI   \n",
              "1     Britney Spears  6I9VzXrHxO9rA9A5euc8Ak   \n",
              "2            Beyoncé  0WqIKmW4BTrj3eJFmnCKMv   \n",
              "3  Justin Timberlake  1AWQoqb9bSvzTjaLralEkT   \n",
              "4             Shaggy  1lzr43nnXAijIGYnCT8M8H   \n",
              "\n",
              "                                   track_name  danceability  energy  key  \\\n",
              "0  Lose Control (feat. Ciara & Fat Man Scoop)         0.904   0.813    4   \n",
              "1                                       Toxic         0.774   0.838    5   \n",
              "2                               Crazy In Love         0.664   0.758    2   \n",
              "3                              Rock Your Body         0.892   0.714    4   \n",
              "4                                It Wasn't Me         0.853   0.606    0   \n",
              "\n",
              "   loudness  mode  speechiness  acousticness  instrumentalness  liveness  \\\n",
              "0    -7.105     0       0.1210       0.03110          0.006970    0.0471   \n",
              "1    -3.914     0       0.1140       0.02490          0.025000    0.2420   \n",
              "2    -6.583     0       0.2100       0.00238          0.000000    0.0598   \n",
              "3    -6.055     0       0.1410       0.20100          0.000234    0.0521   \n",
              "4    -4.596     1       0.0713       0.05610          0.000000    0.3130   \n",
              "\n",
              "   valence    tempo  artist_pop  \\\n",
              "0    0.810  125.461          74   \n",
              "1    0.924  143.040          84   \n",
              "2    0.701   99.259          86   \n",
              "3    0.817  100.972          82   \n",
              "4    0.654   94.759          75   \n",
              "\n",
              "                                              genres  track_pop  \\\n",
              "0  dance_pop hip_hop hip_pop pop pop_rap r&b rap ...         69   \n",
              "1                        dance_pop pop post-teen_pop         83   \n",
              "2                                  dance_pop pop r&b         25   \n",
              "3                                      dance_pop pop         79   \n",
              "4                              pop_rap reggae_fusion          2   \n",
              "\n",
              "                                         genres_list subjectivity  polarity  \n",
              "0  ['dance_pop', 'hip_hop', 'hip_pop', 'pop', 'po...          low   Neutral  \n",
              "1              ['dance_pop', 'pop', 'post-teen_pop']          low   Neutral  \n",
              "2                        ['dance_pop', 'pop', 'r&b']         high  Negative  \n",
              "3                               ['dance_pop', 'pop']          low   Neutral  \n",
              "4                       ['pop_rap', 'reggae_fusion']          low   Neutral  "
            ],
            "text/html": [
              "\n",
              "  <div id=\"df-9abbd4b3-c8fc-4839-a5f6-4dc6d3906071\">\n",
              "    <div class=\"colab-df-container\">\n",
              "      <div>\n",
              "<style scoped>\n",
              "    .dataframe tbody tr th:only-of-type {\n",
              "        vertical-align: middle;\n",
              "    }\n",
              "\n",
              "    .dataframe tbody tr th {\n",
              "        vertical-align: top;\n",
              "    }\n",
              "\n",
              "    .dataframe thead th {\n",
              "        text-align: right;\n",
              "    }\n",
              "</style>\n",
              "<table border=\"1\" class=\"dataframe\">\n",
              "  <thead>\n",
              "    <tr style=\"text-align: right;\">\n",
              "      <th></th>\n",
              "      <th>artist_name</th>\n",
              "      <th>id</th>\n",
              "      <th>track_name</th>\n",
              "      <th>danceability</th>\n",
              "      <th>energy</th>\n",
              "      <th>key</th>\n",
              "      <th>loudness</th>\n",
              "      <th>mode</th>\n",
              "      <th>speechiness</th>\n",
              "      <th>acousticness</th>\n",
              "      <th>instrumentalness</th>\n",
              "      <th>liveness</th>\n",
              "      <th>valence</th>\n",
              "      <th>tempo</th>\n",
              "      <th>artist_pop</th>\n",
              "      <th>genres</th>\n",
              "      <th>track_pop</th>\n",
              "      <th>genres_list</th>\n",
              "      <th>subjectivity</th>\n",
              "      <th>polarity</th>\n",
              "    </tr>\n",
              "  </thead>\n",
              "  <tbody>\n",
              "    <tr>\n",
              "      <th>0</th>\n",
              "      <td>Missy Elliott</td>\n",
              "      <td>0UaMYEvWZi0ZqiDOoHU3YI</td>\n",
              "      <td>Lose Control (feat. Ciara &amp; Fat Man Scoop)</td>\n",
              "      <td>0.904</td>\n",
              "      <td>0.813</td>\n",
              "      <td>4</td>\n",
              "      <td>-7.105</td>\n",
              "      <td>0</td>\n",
              "      <td>0.1210</td>\n",
              "      <td>0.03110</td>\n",
              "      <td>0.006970</td>\n",
              "      <td>0.0471</td>\n",
              "      <td>0.810</td>\n",
              "      <td>125.461</td>\n",
              "      <td>74</td>\n",
              "      <td>dance_pop hip_hop hip_pop pop pop_rap r&amp;b rap ...</td>\n",
              "      <td>69</td>\n",
              "      <td>['dance_pop', 'hip_hop', 'hip_pop', 'pop', 'po...</td>\n",
              "      <td>low</td>\n",
              "      <td>Neutral</td>\n",
              "    </tr>\n",
              "    <tr>\n",
              "      <th>1</th>\n",
              "      <td>Britney Spears</td>\n",
              "      <td>6I9VzXrHxO9rA9A5euc8Ak</td>\n",
              "      <td>Toxic</td>\n",
              "      <td>0.774</td>\n",
              "      <td>0.838</td>\n",
              "      <td>5</td>\n",
              "      <td>-3.914</td>\n",
              "      <td>0</td>\n",
              "      <td>0.1140</td>\n",
              "      <td>0.02490</td>\n",
              "      <td>0.025000</td>\n",
              "      <td>0.2420</td>\n",
              "      <td>0.924</td>\n",
              "      <td>143.040</td>\n",
              "      <td>84</td>\n",
              "      <td>dance_pop pop post-teen_pop</td>\n",
              "      <td>83</td>\n",
              "      <td>['dance_pop', 'pop', 'post-teen_pop']</td>\n",
              "      <td>low</td>\n",
              "      <td>Neutral</td>\n",
              "    </tr>\n",
              "    <tr>\n",
              "      <th>2</th>\n",
              "      <td>Beyoncé</td>\n",
              "      <td>0WqIKmW4BTrj3eJFmnCKMv</td>\n",
              "      <td>Crazy In Love</td>\n",
              "      <td>0.664</td>\n",
              "      <td>0.758</td>\n",
              "      <td>2</td>\n",
              "      <td>-6.583</td>\n",
              "      <td>0</td>\n",
              "      <td>0.2100</td>\n",
              "      <td>0.00238</td>\n",
              "      <td>0.000000</td>\n",
              "      <td>0.0598</td>\n",
              "      <td>0.701</td>\n",
              "      <td>99.259</td>\n",
              "      <td>86</td>\n",
              "      <td>dance_pop pop r&amp;b</td>\n",
              "      <td>25</td>\n",
              "      <td>['dance_pop', 'pop', 'r&amp;b']</td>\n",
              "      <td>high</td>\n",
              "      <td>Negative</td>\n",
              "    </tr>\n",
              "    <tr>\n",
              "      <th>3</th>\n",
              "      <td>Justin Timberlake</td>\n",
              "      <td>1AWQoqb9bSvzTjaLralEkT</td>\n",
              "      <td>Rock Your Body</td>\n",
              "      <td>0.892</td>\n",
              "      <td>0.714</td>\n",
              "      <td>4</td>\n",
              "      <td>-6.055</td>\n",
              "      <td>0</td>\n",
              "      <td>0.1410</td>\n",
              "      <td>0.20100</td>\n",
              "      <td>0.000234</td>\n",
              "      <td>0.0521</td>\n",
              "      <td>0.817</td>\n",
              "      <td>100.972</td>\n",
              "      <td>82</td>\n",
              "      <td>dance_pop pop</td>\n",
              "      <td>79</td>\n",
              "      <td>['dance_pop', 'pop']</td>\n",
              "      <td>low</td>\n",
              "      <td>Neutral</td>\n",
              "    </tr>\n",
              "    <tr>\n",
              "      <th>4</th>\n",
              "      <td>Shaggy</td>\n",
              "      <td>1lzr43nnXAijIGYnCT8M8H</td>\n",
              "      <td>It Wasn't Me</td>\n",
              "      <td>0.853</td>\n",
              "      <td>0.606</td>\n",
              "      <td>0</td>\n",
              "      <td>-4.596</td>\n",
              "      <td>1</td>\n",
              "      <td>0.0713</td>\n",
              "      <td>0.05610</td>\n",
              "      <td>0.000000</td>\n",
              "      <td>0.3130</td>\n",
              "      <td>0.654</td>\n",
              "      <td>94.759</td>\n",
              "      <td>75</td>\n",
              "      <td>pop_rap reggae_fusion</td>\n",
              "      <td>2</td>\n",
              "      <td>['pop_rap', 'reggae_fusion']</td>\n",
              "      <td>low</td>\n",
              "      <td>Neutral</td>\n",
              "    </tr>\n",
              "  </tbody>\n",
              "</table>\n",
              "</div>\n",
              "      <button class=\"colab-df-convert\" onclick=\"convertToInteractive('df-9abbd4b3-c8fc-4839-a5f6-4dc6d3906071')\"\n",
              "              title=\"Convert this dataframe to an interactive table.\"\n",
              "              style=\"display:none;\">\n",
              "        \n",
              "  <svg xmlns=\"http://www.w3.org/2000/svg\" height=\"24px\"viewBox=\"0 0 24 24\"\n",
              "       width=\"24px\">\n",
              "    <path d=\"M0 0h24v24H0V0z\" fill=\"none\"/>\n",
              "    <path d=\"M18.56 5.44l.94 2.06.94-2.06 2.06-.94-2.06-.94-.94-2.06-.94 2.06-2.06.94zm-11 1L8.5 8.5l.94-2.06 2.06-.94-2.06-.94L8.5 2.5l-.94 2.06-2.06.94zm10 10l.94 2.06.94-2.06 2.06-.94-2.06-.94-.94-2.06-.94 2.06-2.06.94z\"/><path d=\"M17.41 7.96l-1.37-1.37c-.4-.4-.92-.59-1.43-.59-.52 0-1.04.2-1.43.59L10.3 9.45l-7.72 7.72c-.78.78-.78 2.05 0 2.83L4 21.41c.39.39.9.59 1.41.59.51 0 1.02-.2 1.41-.59l7.78-7.78 2.81-2.81c.8-.78.8-2.07 0-2.86zM5.41 20L4 18.59l7.72-7.72 1.47 1.35L5.41 20z\"/>\n",
              "  </svg>\n",
              "      </button>\n",
              "      \n",
              "  <style>\n",
              "    .colab-df-container {\n",
              "      display:flex;\n",
              "      flex-wrap:wrap;\n",
              "      gap: 12px;\n",
              "    }\n",
              "\n",
              "    .colab-df-convert {\n",
              "      background-color: #E8F0FE;\n",
              "      border: none;\n",
              "      border-radius: 50%;\n",
              "      cursor: pointer;\n",
              "      display: none;\n",
              "      fill: #1967D2;\n",
              "      height: 32px;\n",
              "      padding: 0 0 0 0;\n",
              "      width: 32px;\n",
              "    }\n",
              "\n",
              "    .colab-df-convert:hover {\n",
              "      background-color: #E2EBFA;\n",
              "      box-shadow: 0px 1px 2px rgba(60, 64, 67, 0.3), 0px 1px 3px 1px rgba(60, 64, 67, 0.15);\n",
              "      fill: #174EA6;\n",
              "    }\n",
              "\n",
              "    [theme=dark] .colab-df-convert {\n",
              "      background-color: #3B4455;\n",
              "      fill: #D2E3FC;\n",
              "    }\n",
              "\n",
              "    [theme=dark] .colab-df-convert:hover {\n",
              "      background-color: #434B5C;\n",
              "      box-shadow: 0px 1px 3px 1px rgba(0, 0, 0, 0.15);\n",
              "      filter: drop-shadow(0px 1px 2px rgba(0, 0, 0, 0.3));\n",
              "      fill: #FFFFFF;\n",
              "    }\n",
              "  </style>\n",
              "\n",
              "      <script>\n",
              "        const buttonEl =\n",
              "          document.querySelector('#df-9abbd4b3-c8fc-4839-a5f6-4dc6d3906071 button.colab-df-convert');\n",
              "        buttonEl.style.display =\n",
              "          google.colab.kernel.accessAllowed ? 'block' : 'none';\n",
              "\n",
              "        async function convertToInteractive(key) {\n",
              "          const element = document.querySelector('#df-9abbd4b3-c8fc-4839-a5f6-4dc6d3906071');\n",
              "          const dataTable =\n",
              "            await google.colab.kernel.invokeFunction('convertToInteractive',\n",
              "                                                     [key], {});\n",
              "          if (!dataTable) return;\n",
              "\n",
              "          const docLinkHtml = 'Like what you see? Visit the ' +\n",
              "            '<a target=\"_blank\" href=https://colab.research.google.com/notebooks/data_table.ipynb>data table notebook</a>'\n",
              "            + ' to learn more about interactive tables.';\n",
              "          element.innerHTML = '';\n",
              "          dataTable['output_type'] = 'display_data';\n",
              "          await google.colab.output.renderOutput(dataTable, element);\n",
              "          const docLink = document.createElement('div');\n",
              "          docLink.innerHTML = docLinkHtml;\n",
              "          element.appendChild(docLink);\n",
              "        }\n",
              "      </script>\n",
              "    </div>\n",
              "  </div>\n",
              "  "
            ]
          },
          "metadata": {},
          "execution_count": 5
        }
      ],
      "source": [
        "music_set.head()"
      ]
    },
    {
      "cell_type": "markdown",
      "source": [
        "We only care about features we can use numerically to fit our models on, so we will drop the track names, artist names, polarities, subjectivities, track popularities and artist popularities. Polarity is not a variable I feel comfortable interpreting to include in our fitting, popularities are irrelevant for genre classification, and the names of tracks and artists are unnecessary"
      ],
      "metadata": {
        "id": "ZPZLY5I9Bfjj"
      },
      "id": "ZPZLY5I9Bfjj"
    },
    {
      "cell_type": "code",
      "execution_count": null,
      "id": "43a8fc57",
      "metadata": {
        "id": "43a8fc57"
      },
      "outputs": [],
      "source": [
        "music_set = music_set.drop(columns= ['id', 'artist_name', 'track_name', 'polarity', 'subjectivity', 'track_pop', 'artist_pop'])"
      ]
    },
    {
      "cell_type": "markdown",
      "source": [
        "We need to transform the list of genres into one genre, so we first drop the \"genres\" column and then we will modify the list:"
      ],
      "metadata": {
        "id": "oF4jSVrBCGr4"
      },
      "id": "oF4jSVrBCGr4"
    },
    {
      "cell_type": "code",
      "execution_count": null,
      "id": "d8957090",
      "metadata": {
        "id": "d8957090"
      },
      "outputs": [],
      "source": [
        "music_set.drop(columns= 'genres', inplace= True)"
      ]
    },
    {
      "cell_type": "code",
      "execution_count": null,
      "id": "69af4f8b",
      "metadata": {
        "colab": {
          "base_uri": "https://localhost:8080/"
        },
        "id": "69af4f8b",
        "outputId": "1039ec39-6f39-4fa5-9a9d-6d8b1203045f"
      },
      "outputs": [
        {
          "output_type": "execute_result",
          "data": {
            "text/plain": [
              "danceability        0\n",
              "energy              0\n",
              "key                 0\n",
              "loudness            0\n",
              "mode                0\n",
              "speechiness         0\n",
              "acousticness        0\n",
              "instrumentalness    0\n",
              "liveness            0\n",
              "valence             0\n",
              "tempo               0\n",
              "genres_list         0\n",
              "dtype: int64"
            ]
          },
          "metadata": {},
          "execution_count": 8
        }
      ],
      "source": [
        "music_set.isna().sum()"
      ]
    },
    {
      "cell_type": "code",
      "execution_count": null,
      "id": "fd85a0e0",
      "metadata": {
        "id": "fd85a0e0"
      },
      "outputs": [],
      "source": [
        "music_set.genres_list = music_set['genres_list'].apply(lambda st: st[st.find(\"[\")+1:st.find(\",\")])"
      ]
    },
    {
      "cell_type": "markdown",
      "id": "324538f8",
      "metadata": {
        "id": "324538f8"
      },
      "source": [
        "Because the list colum s just saved as a string and not a value, we need to find the first of the comma separated set of characters and strip the openning bracket"
      ]
    },
    {
      "cell_type": "code",
      "execution_count": null,
      "id": "b274e64b",
      "metadata": {
        "colab": {
          "base_uri": "https://localhost:8080/",
          "height": 206
        },
        "id": "b274e64b",
        "outputId": "43f8358a-0300-4cff-e79e-8e11c79365b6"
      },
      "outputs": [
        {
          "output_type": "execute_result",
          "data": {
            "text/plain": [
              "   danceability  energy  key  loudness  mode  speechiness  acousticness  \\\n",
              "0         0.904   0.813    4    -7.105     0       0.1210       0.03110   \n",
              "1         0.774   0.838    5    -3.914     0       0.1140       0.02490   \n",
              "2         0.664   0.758    2    -6.583     0       0.2100       0.00238   \n",
              "3         0.892   0.714    4    -6.055     0       0.1410       0.20100   \n",
              "4         0.853   0.606    0    -4.596     1       0.0713       0.05610   \n",
              "\n",
              "   instrumentalness  liveness  valence    tempo  genres_list  \n",
              "0          0.006970    0.0471    0.810  125.461  'dance_pop'  \n",
              "1          0.025000    0.2420    0.924  143.040  'dance_pop'  \n",
              "2          0.000000    0.0598    0.701   99.259  'dance_pop'  \n",
              "3          0.000234    0.0521    0.817  100.972  'dance_pop'  \n",
              "4          0.000000    0.3130    0.654   94.759    'pop_rap'  "
            ],
            "text/html": [
              "\n",
              "  <div id=\"df-ba3e1278-e3a4-41aa-9b4b-80c444cec362\">\n",
              "    <div class=\"colab-df-container\">\n",
              "      <div>\n",
              "<style scoped>\n",
              "    .dataframe tbody tr th:only-of-type {\n",
              "        vertical-align: middle;\n",
              "    }\n",
              "\n",
              "    .dataframe tbody tr th {\n",
              "        vertical-align: top;\n",
              "    }\n",
              "\n",
              "    .dataframe thead th {\n",
              "        text-align: right;\n",
              "    }\n",
              "</style>\n",
              "<table border=\"1\" class=\"dataframe\">\n",
              "  <thead>\n",
              "    <tr style=\"text-align: right;\">\n",
              "      <th></th>\n",
              "      <th>danceability</th>\n",
              "      <th>energy</th>\n",
              "      <th>key</th>\n",
              "      <th>loudness</th>\n",
              "      <th>mode</th>\n",
              "      <th>speechiness</th>\n",
              "      <th>acousticness</th>\n",
              "      <th>instrumentalness</th>\n",
              "      <th>liveness</th>\n",
              "      <th>valence</th>\n",
              "      <th>tempo</th>\n",
              "      <th>genres_list</th>\n",
              "    </tr>\n",
              "  </thead>\n",
              "  <tbody>\n",
              "    <tr>\n",
              "      <th>0</th>\n",
              "      <td>0.904</td>\n",
              "      <td>0.813</td>\n",
              "      <td>4</td>\n",
              "      <td>-7.105</td>\n",
              "      <td>0</td>\n",
              "      <td>0.1210</td>\n",
              "      <td>0.03110</td>\n",
              "      <td>0.006970</td>\n",
              "      <td>0.0471</td>\n",
              "      <td>0.810</td>\n",
              "      <td>125.461</td>\n",
              "      <td>'dance_pop'</td>\n",
              "    </tr>\n",
              "    <tr>\n",
              "      <th>1</th>\n",
              "      <td>0.774</td>\n",
              "      <td>0.838</td>\n",
              "      <td>5</td>\n",
              "      <td>-3.914</td>\n",
              "      <td>0</td>\n",
              "      <td>0.1140</td>\n",
              "      <td>0.02490</td>\n",
              "      <td>0.025000</td>\n",
              "      <td>0.2420</td>\n",
              "      <td>0.924</td>\n",
              "      <td>143.040</td>\n",
              "      <td>'dance_pop'</td>\n",
              "    </tr>\n",
              "    <tr>\n",
              "      <th>2</th>\n",
              "      <td>0.664</td>\n",
              "      <td>0.758</td>\n",
              "      <td>2</td>\n",
              "      <td>-6.583</td>\n",
              "      <td>0</td>\n",
              "      <td>0.2100</td>\n",
              "      <td>0.00238</td>\n",
              "      <td>0.000000</td>\n",
              "      <td>0.0598</td>\n",
              "      <td>0.701</td>\n",
              "      <td>99.259</td>\n",
              "      <td>'dance_pop'</td>\n",
              "    </tr>\n",
              "    <tr>\n",
              "      <th>3</th>\n",
              "      <td>0.892</td>\n",
              "      <td>0.714</td>\n",
              "      <td>4</td>\n",
              "      <td>-6.055</td>\n",
              "      <td>0</td>\n",
              "      <td>0.1410</td>\n",
              "      <td>0.20100</td>\n",
              "      <td>0.000234</td>\n",
              "      <td>0.0521</td>\n",
              "      <td>0.817</td>\n",
              "      <td>100.972</td>\n",
              "      <td>'dance_pop'</td>\n",
              "    </tr>\n",
              "    <tr>\n",
              "      <th>4</th>\n",
              "      <td>0.853</td>\n",
              "      <td>0.606</td>\n",
              "      <td>0</td>\n",
              "      <td>-4.596</td>\n",
              "      <td>1</td>\n",
              "      <td>0.0713</td>\n",
              "      <td>0.05610</td>\n",
              "      <td>0.000000</td>\n",
              "      <td>0.3130</td>\n",
              "      <td>0.654</td>\n",
              "      <td>94.759</td>\n",
              "      <td>'pop_rap'</td>\n",
              "    </tr>\n",
              "  </tbody>\n",
              "</table>\n",
              "</div>\n",
              "      <button class=\"colab-df-convert\" onclick=\"convertToInteractive('df-ba3e1278-e3a4-41aa-9b4b-80c444cec362')\"\n",
              "              title=\"Convert this dataframe to an interactive table.\"\n",
              "              style=\"display:none;\">\n",
              "        \n",
              "  <svg xmlns=\"http://www.w3.org/2000/svg\" height=\"24px\"viewBox=\"0 0 24 24\"\n",
              "       width=\"24px\">\n",
              "    <path d=\"M0 0h24v24H0V0z\" fill=\"none\"/>\n",
              "    <path d=\"M18.56 5.44l.94 2.06.94-2.06 2.06-.94-2.06-.94-.94-2.06-.94 2.06-2.06.94zm-11 1L8.5 8.5l.94-2.06 2.06-.94-2.06-.94L8.5 2.5l-.94 2.06-2.06.94zm10 10l.94 2.06.94-2.06 2.06-.94-2.06-.94-.94-2.06-.94 2.06-2.06.94z\"/><path d=\"M17.41 7.96l-1.37-1.37c-.4-.4-.92-.59-1.43-.59-.52 0-1.04.2-1.43.59L10.3 9.45l-7.72 7.72c-.78.78-.78 2.05 0 2.83L4 21.41c.39.39.9.59 1.41.59.51 0 1.02-.2 1.41-.59l7.78-7.78 2.81-2.81c.8-.78.8-2.07 0-2.86zM5.41 20L4 18.59l7.72-7.72 1.47 1.35L5.41 20z\"/>\n",
              "  </svg>\n",
              "      </button>\n",
              "      \n",
              "  <style>\n",
              "    .colab-df-container {\n",
              "      display:flex;\n",
              "      flex-wrap:wrap;\n",
              "      gap: 12px;\n",
              "    }\n",
              "\n",
              "    .colab-df-convert {\n",
              "      background-color: #E8F0FE;\n",
              "      border: none;\n",
              "      border-radius: 50%;\n",
              "      cursor: pointer;\n",
              "      display: none;\n",
              "      fill: #1967D2;\n",
              "      height: 32px;\n",
              "      padding: 0 0 0 0;\n",
              "      width: 32px;\n",
              "    }\n",
              "\n",
              "    .colab-df-convert:hover {\n",
              "      background-color: #E2EBFA;\n",
              "      box-shadow: 0px 1px 2px rgba(60, 64, 67, 0.3), 0px 1px 3px 1px rgba(60, 64, 67, 0.15);\n",
              "      fill: #174EA6;\n",
              "    }\n",
              "\n",
              "    [theme=dark] .colab-df-convert {\n",
              "      background-color: #3B4455;\n",
              "      fill: #D2E3FC;\n",
              "    }\n",
              "\n",
              "    [theme=dark] .colab-df-convert:hover {\n",
              "      background-color: #434B5C;\n",
              "      box-shadow: 0px 1px 3px 1px rgba(0, 0, 0, 0.15);\n",
              "      filter: drop-shadow(0px 1px 2px rgba(0, 0, 0, 0.3));\n",
              "      fill: #FFFFFF;\n",
              "    }\n",
              "  </style>\n",
              "\n",
              "      <script>\n",
              "        const buttonEl =\n",
              "          document.querySelector('#df-ba3e1278-e3a4-41aa-9b4b-80c444cec362 button.colab-df-convert');\n",
              "        buttonEl.style.display =\n",
              "          google.colab.kernel.accessAllowed ? 'block' : 'none';\n",
              "\n",
              "        async function convertToInteractive(key) {\n",
              "          const element = document.querySelector('#df-ba3e1278-e3a4-41aa-9b4b-80c444cec362');\n",
              "          const dataTable =\n",
              "            await google.colab.kernel.invokeFunction('convertToInteractive',\n",
              "                                                     [key], {});\n",
              "          if (!dataTable) return;\n",
              "\n",
              "          const docLinkHtml = 'Like what you see? Visit the ' +\n",
              "            '<a target=\"_blank\" href=https://colab.research.google.com/notebooks/data_table.ipynb>data table notebook</a>'\n",
              "            + ' to learn more about interactive tables.';\n",
              "          element.innerHTML = '';\n",
              "          dataTable['output_type'] = 'display_data';\n",
              "          await google.colab.output.renderOutput(dataTable, element);\n",
              "          const docLink = document.createElement('div');\n",
              "          docLink.innerHTML = docLinkHtml;\n",
              "          element.appendChild(docLink);\n",
              "        }\n",
              "      </script>\n",
              "    </div>\n",
              "  </div>\n",
              "  "
            ]
          },
          "metadata": {},
          "execution_count": 10
        }
      ],
      "source": [
        "music_set.head()"
      ]
    },
    {
      "cell_type": "markdown",
      "source": [
        " lot of the values for genre in this list are singular, so we want to limit which rows we allow in in order to have a set number of genres we're modeling against:"
      ],
      "metadata": {
        "id": "VJ0UnN_CDUJv"
      },
      "id": "VJ0UnN_CDUJv"
    },
    {
      "cell_type": "code",
      "execution_count": null,
      "id": "a6a831ef",
      "metadata": {
        "id": "a6a831ef"
      },
      "outputs": [],
      "source": [
        "genre_counts = music_set.genres_list.value_counts() #creates a series of values and their counts"
      ]
    },
    {
      "cell_type": "code",
      "source": [
        "new_genres = genre_counts[genre_counts >=500].index #filters to only take those with more than 500 entries"
      ],
      "metadata": {
        "id": "_MhJxTyTDwYT"
      },
      "id": "_MhJxTyTDwYT",
      "execution_count": null,
      "outputs": []
    },
    {
      "cell_type": "code",
      "execution_count": null,
      "id": "54904c43",
      "metadata": {
        "id": "54904c43"
      },
      "outputs": [],
      "source": [
        "#creates a new dataframe with only the set features\n",
        "\n",
        "music_set_filtered = music_set[(music_set['genres_list'] != \"'unknown'\") & music_set['genres_list'].isin(new_genres) ]"
      ]
    },
    {
      "cell_type": "markdown",
      "source": [
        "Now we're ready to move onto modeling, so we split into X and y"
      ],
      "metadata": {
        "id": "2N7EuJj_E4X1"
      },
      "id": "2N7EuJj_E4X1"
    },
    {
      "cell_type": "code",
      "execution_count": null,
      "id": "9ab002e3",
      "metadata": {
        "id": "9ab002e3"
      },
      "outputs": [],
      "source": [
        "y = music_set_filtered.genres_list\n",
        "X = music_set_filtered.drop(columns= 'genres_list')"
      ]
    },
    {
      "cell_type": "code",
      "execution_count": null,
      "id": "246b4cf6",
      "metadata": {
        "colab": {
          "base_uri": "https://localhost:8080/",
          "height": 423
        },
        "id": "246b4cf6",
        "outputId": "c72086d3-9b05-4672-9c4d-e056f8abe156"
      },
      "outputs": [
        {
          "output_type": "execute_result",
          "data": {
            "text/plain": [
              "       danceability  energy  key  loudness  mode  speechiness  acousticness  \\\n",
              "0             0.904   0.813    4    -7.105     0       0.1210       0.03110   \n",
              "1             0.774   0.838    5    -3.914     0       0.1140       0.02490   \n",
              "2             0.664   0.758    2    -6.583     0       0.2100       0.00238   \n",
              "3             0.892   0.714    4    -6.055     0       0.1410       0.20100   \n",
              "5             0.881   0.788    2    -4.669     1       0.1680       0.02120   \n",
              "...             ...     ...  ...       ...   ...          ...           ...   \n",
              "34215         0.454   0.605    4    -6.816     1       0.0314       0.25500   \n",
              "34216         0.514   0.742    8    -2.525     1       0.0258       0.27000   \n",
              "34217         0.483   0.531    8    -5.889     1       0.0304       0.29700   \n",
              "34218         0.646   0.595    7    -6.275     1       0.0327       0.05450   \n",
              "34219         0.591   0.553    5    -6.131     1       0.0253       0.27300   \n",
              "\n",
              "       instrumentalness  liveness  valence    tempo  \n",
              "0              0.006970    0.0471    0.810  125.461  \n",
              "1              0.025000    0.2420    0.924  143.040  \n",
              "2              0.000000    0.0598    0.701   99.259  \n",
              "3              0.000234    0.0521    0.817  100.972  \n",
              "5              0.000000    0.0377    0.592  104.997  \n",
              "...                 ...       ...      ...      ...  \n",
              "34215          0.000000    0.1090    0.180  155.861  \n",
              "34216          0.000002    0.0850    0.470  101.000  \n",
              "34217          0.000000    0.1320    0.130  123.903  \n",
              "34218          0.000017    0.0826    0.519   81.777  \n",
              "34219          0.000000    0.0987    0.160  135.794  \n",
              "\n",
              "[8576 rows x 11 columns]"
            ],
            "text/html": [
              "\n",
              "  <div id=\"df-611e175a-0662-431f-a728-a6a5da54fd8d\">\n",
              "    <div class=\"colab-df-container\">\n",
              "      <div>\n",
              "<style scoped>\n",
              "    .dataframe tbody tr th:only-of-type {\n",
              "        vertical-align: middle;\n",
              "    }\n",
              "\n",
              "    .dataframe tbody tr th {\n",
              "        vertical-align: top;\n",
              "    }\n",
              "\n",
              "    .dataframe thead th {\n",
              "        text-align: right;\n",
              "    }\n",
              "</style>\n",
              "<table border=\"1\" class=\"dataframe\">\n",
              "  <thead>\n",
              "    <tr style=\"text-align: right;\">\n",
              "      <th></th>\n",
              "      <th>danceability</th>\n",
              "      <th>energy</th>\n",
              "      <th>key</th>\n",
              "      <th>loudness</th>\n",
              "      <th>mode</th>\n",
              "      <th>speechiness</th>\n",
              "      <th>acousticness</th>\n",
              "      <th>instrumentalness</th>\n",
              "      <th>liveness</th>\n",
              "      <th>valence</th>\n",
              "      <th>tempo</th>\n",
              "    </tr>\n",
              "  </thead>\n",
              "  <tbody>\n",
              "    <tr>\n",
              "      <th>0</th>\n",
              "      <td>0.904</td>\n",
              "      <td>0.813</td>\n",
              "      <td>4</td>\n",
              "      <td>-7.105</td>\n",
              "      <td>0</td>\n",
              "      <td>0.1210</td>\n",
              "      <td>0.03110</td>\n",
              "      <td>0.006970</td>\n",
              "      <td>0.0471</td>\n",
              "      <td>0.810</td>\n",
              "      <td>125.461</td>\n",
              "    </tr>\n",
              "    <tr>\n",
              "      <th>1</th>\n",
              "      <td>0.774</td>\n",
              "      <td>0.838</td>\n",
              "      <td>5</td>\n",
              "      <td>-3.914</td>\n",
              "      <td>0</td>\n",
              "      <td>0.1140</td>\n",
              "      <td>0.02490</td>\n",
              "      <td>0.025000</td>\n",
              "      <td>0.2420</td>\n",
              "      <td>0.924</td>\n",
              "      <td>143.040</td>\n",
              "    </tr>\n",
              "    <tr>\n",
              "      <th>2</th>\n",
              "      <td>0.664</td>\n",
              "      <td>0.758</td>\n",
              "      <td>2</td>\n",
              "      <td>-6.583</td>\n",
              "      <td>0</td>\n",
              "      <td>0.2100</td>\n",
              "      <td>0.00238</td>\n",
              "      <td>0.000000</td>\n",
              "      <td>0.0598</td>\n",
              "      <td>0.701</td>\n",
              "      <td>99.259</td>\n",
              "    </tr>\n",
              "    <tr>\n",
              "      <th>3</th>\n",
              "      <td>0.892</td>\n",
              "      <td>0.714</td>\n",
              "      <td>4</td>\n",
              "      <td>-6.055</td>\n",
              "      <td>0</td>\n",
              "      <td>0.1410</td>\n",
              "      <td>0.20100</td>\n",
              "      <td>0.000234</td>\n",
              "      <td>0.0521</td>\n",
              "      <td>0.817</td>\n",
              "      <td>100.972</td>\n",
              "    </tr>\n",
              "    <tr>\n",
              "      <th>5</th>\n",
              "      <td>0.881</td>\n",
              "      <td>0.788</td>\n",
              "      <td>2</td>\n",
              "      <td>-4.669</td>\n",
              "      <td>1</td>\n",
              "      <td>0.1680</td>\n",
              "      <td>0.02120</td>\n",
              "      <td>0.000000</td>\n",
              "      <td>0.0377</td>\n",
              "      <td>0.592</td>\n",
              "      <td>104.997</td>\n",
              "    </tr>\n",
              "    <tr>\n",
              "      <th>...</th>\n",
              "      <td>...</td>\n",
              "      <td>...</td>\n",
              "      <td>...</td>\n",
              "      <td>...</td>\n",
              "      <td>...</td>\n",
              "      <td>...</td>\n",
              "      <td>...</td>\n",
              "      <td>...</td>\n",
              "      <td>...</td>\n",
              "      <td>...</td>\n",
              "      <td>...</td>\n",
              "    </tr>\n",
              "    <tr>\n",
              "      <th>34215</th>\n",
              "      <td>0.454</td>\n",
              "      <td>0.605</td>\n",
              "      <td>4</td>\n",
              "      <td>-6.816</td>\n",
              "      <td>1</td>\n",
              "      <td>0.0314</td>\n",
              "      <td>0.25500</td>\n",
              "      <td>0.000000</td>\n",
              "      <td>0.1090</td>\n",
              "      <td>0.180</td>\n",
              "      <td>155.861</td>\n",
              "    </tr>\n",
              "    <tr>\n",
              "      <th>34216</th>\n",
              "      <td>0.514</td>\n",
              "      <td>0.742</td>\n",
              "      <td>8</td>\n",
              "      <td>-2.525</td>\n",
              "      <td>1</td>\n",
              "      <td>0.0258</td>\n",
              "      <td>0.27000</td>\n",
              "      <td>0.000002</td>\n",
              "      <td>0.0850</td>\n",
              "      <td>0.470</td>\n",
              "      <td>101.000</td>\n",
              "    </tr>\n",
              "    <tr>\n",
              "      <th>34217</th>\n",
              "      <td>0.483</td>\n",
              "      <td>0.531</td>\n",
              "      <td>8</td>\n",
              "      <td>-5.889</td>\n",
              "      <td>1</td>\n",
              "      <td>0.0304</td>\n",
              "      <td>0.29700</td>\n",
              "      <td>0.000000</td>\n",
              "      <td>0.1320</td>\n",
              "      <td>0.130</td>\n",
              "      <td>123.903</td>\n",
              "    </tr>\n",
              "    <tr>\n",
              "      <th>34218</th>\n",
              "      <td>0.646</td>\n",
              "      <td>0.595</td>\n",
              "      <td>7</td>\n",
              "      <td>-6.275</td>\n",
              "      <td>1</td>\n",
              "      <td>0.0327</td>\n",
              "      <td>0.05450</td>\n",
              "      <td>0.000017</td>\n",
              "      <td>0.0826</td>\n",
              "      <td>0.519</td>\n",
              "      <td>81.777</td>\n",
              "    </tr>\n",
              "    <tr>\n",
              "      <th>34219</th>\n",
              "      <td>0.591</td>\n",
              "      <td>0.553</td>\n",
              "      <td>5</td>\n",
              "      <td>-6.131</td>\n",
              "      <td>1</td>\n",
              "      <td>0.0253</td>\n",
              "      <td>0.27300</td>\n",
              "      <td>0.000000</td>\n",
              "      <td>0.0987</td>\n",
              "      <td>0.160</td>\n",
              "      <td>135.794</td>\n",
              "    </tr>\n",
              "  </tbody>\n",
              "</table>\n",
              "<p>8576 rows × 11 columns</p>\n",
              "</div>\n",
              "      <button class=\"colab-df-convert\" onclick=\"convertToInteractive('df-611e175a-0662-431f-a728-a6a5da54fd8d')\"\n",
              "              title=\"Convert this dataframe to an interactive table.\"\n",
              "              style=\"display:none;\">\n",
              "        \n",
              "  <svg xmlns=\"http://www.w3.org/2000/svg\" height=\"24px\"viewBox=\"0 0 24 24\"\n",
              "       width=\"24px\">\n",
              "    <path d=\"M0 0h24v24H0V0z\" fill=\"none\"/>\n",
              "    <path d=\"M18.56 5.44l.94 2.06.94-2.06 2.06-.94-2.06-.94-.94-2.06-.94 2.06-2.06.94zm-11 1L8.5 8.5l.94-2.06 2.06-.94-2.06-.94L8.5 2.5l-.94 2.06-2.06.94zm10 10l.94 2.06.94-2.06 2.06-.94-2.06-.94-.94-2.06-.94 2.06-2.06.94z\"/><path d=\"M17.41 7.96l-1.37-1.37c-.4-.4-.92-.59-1.43-.59-.52 0-1.04.2-1.43.59L10.3 9.45l-7.72 7.72c-.78.78-.78 2.05 0 2.83L4 21.41c.39.39.9.59 1.41.59.51 0 1.02-.2 1.41-.59l7.78-7.78 2.81-2.81c.8-.78.8-2.07 0-2.86zM5.41 20L4 18.59l7.72-7.72 1.47 1.35L5.41 20z\"/>\n",
              "  </svg>\n",
              "      </button>\n",
              "      \n",
              "  <style>\n",
              "    .colab-df-container {\n",
              "      display:flex;\n",
              "      flex-wrap:wrap;\n",
              "      gap: 12px;\n",
              "    }\n",
              "\n",
              "    .colab-df-convert {\n",
              "      background-color: #E8F0FE;\n",
              "      border: none;\n",
              "      border-radius: 50%;\n",
              "      cursor: pointer;\n",
              "      display: none;\n",
              "      fill: #1967D2;\n",
              "      height: 32px;\n",
              "      padding: 0 0 0 0;\n",
              "      width: 32px;\n",
              "    }\n",
              "\n",
              "    .colab-df-convert:hover {\n",
              "      background-color: #E2EBFA;\n",
              "      box-shadow: 0px 1px 2px rgba(60, 64, 67, 0.3), 0px 1px 3px 1px rgba(60, 64, 67, 0.15);\n",
              "      fill: #174EA6;\n",
              "    }\n",
              "\n",
              "    [theme=dark] .colab-df-convert {\n",
              "      background-color: #3B4455;\n",
              "      fill: #D2E3FC;\n",
              "    }\n",
              "\n",
              "    [theme=dark] .colab-df-convert:hover {\n",
              "      background-color: #434B5C;\n",
              "      box-shadow: 0px 1px 3px 1px rgba(0, 0, 0, 0.15);\n",
              "      filter: drop-shadow(0px 1px 2px rgba(0, 0, 0, 0.3));\n",
              "      fill: #FFFFFF;\n",
              "    }\n",
              "  </style>\n",
              "\n",
              "      <script>\n",
              "        const buttonEl =\n",
              "          document.querySelector('#df-611e175a-0662-431f-a728-a6a5da54fd8d button.colab-df-convert');\n",
              "        buttonEl.style.display =\n",
              "          google.colab.kernel.accessAllowed ? 'block' : 'none';\n",
              "\n",
              "        async function convertToInteractive(key) {\n",
              "          const element = document.querySelector('#df-611e175a-0662-431f-a728-a6a5da54fd8d');\n",
              "          const dataTable =\n",
              "            await google.colab.kernel.invokeFunction('convertToInteractive',\n",
              "                                                     [key], {});\n",
              "          if (!dataTable) return;\n",
              "\n",
              "          const docLinkHtml = 'Like what you see? Visit the ' +\n",
              "            '<a target=\"_blank\" href=https://colab.research.google.com/notebooks/data_table.ipynb>data table notebook</a>'\n",
              "            + ' to learn more about interactive tables.';\n",
              "          element.innerHTML = '';\n",
              "          dataTable['output_type'] = 'display_data';\n",
              "          await google.colab.output.renderOutput(dataTable, element);\n",
              "          const docLink = document.createElement('div');\n",
              "          docLink.innerHTML = docLinkHtml;\n",
              "          element.appendChild(docLink);\n",
              "        }\n",
              "      </script>\n",
              "    </div>\n",
              "  </div>\n",
              "  "
            ]
          },
          "metadata": {},
          "execution_count": 15
        }
      ],
      "source": [
        "X"
      ]
    },
    {
      "cell_type": "markdown",
      "source": [
        "Key can be thought of as a categorical value, so lts one hot encode that for fitting "
      ],
      "metadata": {
        "id": "VWQr6QDME_d7"
      },
      "id": "VWQr6QDME_d7"
    },
    {
      "cell_type": "code",
      "execution_count": null,
      "id": "5e618873",
      "metadata": {
        "scrolled": true,
        "colab": {
          "base_uri": "https://localhost:8080/"
        },
        "id": "5e618873",
        "outputId": "9f71b227-661c-4a9b-9c89-76d77cc2be27"
      },
      "outputs": [
        {
          "output_type": "execute_result",
          "data": {
            "text/plain": [
              "7     1034\n",
              "0     1006\n",
              "1      937\n",
              "9      865\n",
              "2      860\n",
              "5      700\n",
              "11     649\n",
              "4      633\n",
              "8      596\n",
              "6      573\n",
              "10     484\n",
              "3      239\n",
              "Name: key, dtype: int64"
            ]
          },
          "metadata": {},
          "execution_count": 16
        }
      ],
      "source": [
        "X.key.value_counts()"
      ]
    },
    {
      "cell_type": "code",
      "execution_count": null,
      "id": "14f4162c",
      "metadata": {
        "id": "14f4162c"
      },
      "outputs": [],
      "source": [
        "X = pd.get_dummies(columns=['key'], data=X, drop_first=True)"
      ]
    },
    {
      "cell_type": "markdown",
      "source": [
        "Now we fit first with a logistic regression:"
      ],
      "metadata": {
        "id": "KNHpIHD8FRD4"
      },
      "id": "KNHpIHD8FRD4"
    },
    {
      "cell_type": "code",
      "execution_count": null,
      "id": "4e8a737e",
      "metadata": {
        "id": "4e8a737e"
      },
      "outputs": [],
      "source": [
        "logreg = LogisticRegression(penalty='none', solver= 'saga', max_iter=1000)"
      ]
    },
    {
      "cell_type": "code",
      "execution_count": null,
      "id": "f3aa9c3d",
      "metadata": {
        "id": "f3aa9c3d"
      },
      "outputs": [],
      "source": [
        "X_train, X_test, y_train, y_test = train_test_split(X, y, random_state= 42)"
      ]
    },
    {
      "cell_type": "code",
      "source": [
        "X_train.shape"
      ],
      "metadata": {
        "colab": {
          "base_uri": "https://localhost:8080/"
        },
        "id": "CctgBLFQDMEz",
        "outputId": "3b6a82b3-af59-4b16-9c7d-cfb4710e63a6"
      },
      "id": "CctgBLFQDMEz",
      "execution_count": null,
      "outputs": [
        {
          "output_type": "execute_result",
          "data": {
            "text/plain": [
              "(6432, 21)"
            ]
          },
          "metadata": {},
          "execution_count": 20
        }
      ]
    },
    {
      "cell_type": "code",
      "execution_count": null,
      "id": "71402862",
      "metadata": {
        "colab": {
          "base_uri": "https://localhost:8080/",
          "height": 164
        },
        "id": "71402862",
        "outputId": "b9e29322-b30c-4ac2-aa8f-95ce7fa056e5"
      },
      "outputs": [
        {
          "output_type": "stream",
          "name": "stderr",
          "text": [
            "/usr/local/lib/python3.9/dist-packages/sklearn/linear_model/_logistic.py:1173: FutureWarning: `penalty='none'`has been deprecated in 1.2 and will be removed in 1.4. To keep the past behaviour, set `penalty=None`.\n",
            "  warnings.warn(\n",
            "/usr/local/lib/python3.9/dist-packages/sklearn/linear_model/_sag.py:350: ConvergenceWarning: The max_iter was reached which means the coef_ did not converge\n",
            "  warnings.warn(\n"
          ]
        },
        {
          "output_type": "execute_result",
          "data": {
            "text/plain": [
              "LogisticRegression(max_iter=1000, penalty='none', solver='saga')"
            ],
            "text/html": [
              "<style>#sk-container-id-1 {color: black;background-color: white;}#sk-container-id-1 pre{padding: 0;}#sk-container-id-1 div.sk-toggleable {background-color: white;}#sk-container-id-1 label.sk-toggleable__label {cursor: pointer;display: block;width: 100%;margin-bottom: 0;padding: 0.3em;box-sizing: border-box;text-align: center;}#sk-container-id-1 label.sk-toggleable__label-arrow:before {content: \"▸\";float: left;margin-right: 0.25em;color: #696969;}#sk-container-id-1 label.sk-toggleable__label-arrow:hover:before {color: black;}#sk-container-id-1 div.sk-estimator:hover label.sk-toggleable__label-arrow:before {color: black;}#sk-container-id-1 div.sk-toggleable__content {max-height: 0;max-width: 0;overflow: hidden;text-align: left;background-color: #f0f8ff;}#sk-container-id-1 div.sk-toggleable__content pre {margin: 0.2em;color: black;border-radius: 0.25em;background-color: #f0f8ff;}#sk-container-id-1 input.sk-toggleable__control:checked~div.sk-toggleable__content {max-height: 200px;max-width: 100%;overflow: auto;}#sk-container-id-1 input.sk-toggleable__control:checked~label.sk-toggleable__label-arrow:before {content: \"▾\";}#sk-container-id-1 div.sk-estimator input.sk-toggleable__control:checked~label.sk-toggleable__label {background-color: #d4ebff;}#sk-container-id-1 div.sk-label input.sk-toggleable__control:checked~label.sk-toggleable__label {background-color: #d4ebff;}#sk-container-id-1 input.sk-hidden--visually {border: 0;clip: rect(1px 1px 1px 1px);clip: rect(1px, 1px, 1px, 1px);height: 1px;margin: -1px;overflow: hidden;padding: 0;position: absolute;width: 1px;}#sk-container-id-1 div.sk-estimator {font-family: monospace;background-color: #f0f8ff;border: 1px dotted black;border-radius: 0.25em;box-sizing: border-box;margin-bottom: 0.5em;}#sk-container-id-1 div.sk-estimator:hover {background-color: #d4ebff;}#sk-container-id-1 div.sk-parallel-item::after {content: \"\";width: 100%;border-bottom: 1px solid gray;flex-grow: 1;}#sk-container-id-1 div.sk-label:hover label.sk-toggleable__label {background-color: #d4ebff;}#sk-container-id-1 div.sk-serial::before {content: \"\";position: absolute;border-left: 1px solid gray;box-sizing: border-box;top: 0;bottom: 0;left: 50%;z-index: 0;}#sk-container-id-1 div.sk-serial {display: flex;flex-direction: column;align-items: center;background-color: white;padding-right: 0.2em;padding-left: 0.2em;position: relative;}#sk-container-id-1 div.sk-item {position: relative;z-index: 1;}#sk-container-id-1 div.sk-parallel {display: flex;align-items: stretch;justify-content: center;background-color: white;position: relative;}#sk-container-id-1 div.sk-item::before, #sk-container-id-1 div.sk-parallel-item::before {content: \"\";position: absolute;border-left: 1px solid gray;box-sizing: border-box;top: 0;bottom: 0;left: 50%;z-index: -1;}#sk-container-id-1 div.sk-parallel-item {display: flex;flex-direction: column;z-index: 1;position: relative;background-color: white;}#sk-container-id-1 div.sk-parallel-item:first-child::after {align-self: flex-end;width: 50%;}#sk-container-id-1 div.sk-parallel-item:last-child::after {align-self: flex-start;width: 50%;}#sk-container-id-1 div.sk-parallel-item:only-child::after {width: 0;}#sk-container-id-1 div.sk-dashed-wrapped {border: 1px dashed gray;margin: 0 0.4em 0.5em 0.4em;box-sizing: border-box;padding-bottom: 0.4em;background-color: white;}#sk-container-id-1 div.sk-label label {font-family: monospace;font-weight: bold;display: inline-block;line-height: 1.2em;}#sk-container-id-1 div.sk-label-container {text-align: center;}#sk-container-id-1 div.sk-container {/* jupyter's `normalize.less` sets `[hidden] { display: none; }` but bootstrap.min.css set `[hidden] { display: none !important; }` so we also need the `!important` here to be able to override the default hidden behavior on the sphinx rendered scikit-learn.org. See: https://github.com/scikit-learn/scikit-learn/issues/21755 */display: inline-block !important;position: relative;}#sk-container-id-1 div.sk-text-repr-fallback {display: none;}</style><div id=\"sk-container-id-1\" class=\"sk-top-container\"><div class=\"sk-text-repr-fallback\"><pre>LogisticRegression(max_iter=1000, penalty=&#x27;none&#x27;, solver=&#x27;saga&#x27;)</pre><b>In a Jupyter environment, please rerun this cell to show the HTML representation or trust the notebook. <br />On GitHub, the HTML representation is unable to render, please try loading this page with nbviewer.org.</b></div><div class=\"sk-container\" hidden><div class=\"sk-item\"><div class=\"sk-estimator sk-toggleable\"><input class=\"sk-toggleable__control sk-hidden--visually\" id=\"sk-estimator-id-1\" type=\"checkbox\" checked><label for=\"sk-estimator-id-1\" class=\"sk-toggleable__label sk-toggleable__label-arrow\">LogisticRegression</label><div class=\"sk-toggleable__content\"><pre>LogisticRegression(max_iter=1000, penalty=&#x27;none&#x27;, solver=&#x27;saga&#x27;)</pre></div></div></div></div></div>"
            ]
          },
          "metadata": {},
          "execution_count": 21
        }
      ],
      "source": [
        "logreg.fit(X_train, y_train)"
      ]
    },
    {
      "cell_type": "code",
      "execution_count": null,
      "id": "b66c8d16",
      "metadata": {
        "colab": {
          "base_uri": "https://localhost:8080/"
        },
        "id": "b66c8d16",
        "outputId": "a5101ede-7992-4428-8b75-ac8dd30a1fad"
      },
      "outputs": [
        {
          "output_type": "execute_result",
          "data": {
            "text/plain": [
              "0.4900497512437811"
            ]
          },
          "metadata": {},
          "execution_count": 22
        }
      ],
      "source": [
        "logreg.score(X_train, y_train)"
      ]
    },
    {
      "cell_type": "code",
      "execution_count": null,
      "id": "0a501efc",
      "metadata": {
        "colab": {
          "base_uri": "https://localhost:8080/"
        },
        "id": "0a501efc",
        "outputId": "82e01ded-17db-43d5-93a0-f10e832a90b5"
      },
      "outputs": [
        {
          "output_type": "execute_result",
          "data": {
            "text/plain": [
              "0.47901119402985076"
            ]
          },
          "metadata": {},
          "execution_count": 23
        }
      ],
      "source": [
        "logreg.score(X_test, y_test)"
      ]
    },
    {
      "cell_type": "code",
      "execution_count": null,
      "id": "49acab31",
      "metadata": {
        "colab": {
          "base_uri": "https://localhost:8080/"
        },
        "id": "49acab31",
        "outputId": "fef3e908-6312-4b57-eb0a-475d35a1956e"
      },
      "outputs": [
        {
          "output_type": "execute_result",
          "data": {
            "text/plain": [
              "'dance_pop'               0.293260\n",
              "'contemporary_country'    0.185984\n",
              "'alternative_metal'       0.120336\n",
              "'album_rock'              0.085005\n",
              "'atl_hip_hop'             0.084655\n",
              "'adult_standards'         0.082439\n",
              "'alternative_rock'        0.078475\n",
              "'alternative_dance'       0.069846\n",
              "Name: genres_list, dtype: float64"
            ]
          },
          "metadata": {},
          "execution_count": 24
        }
      ],
      "source": [
        "y.value_counts(normalize = True)"
      ]
    },
    {
      "cell_type": "markdown",
      "source": [
        "This model performs better than the base case, but is still not great. We're not trying to create the perfect logistic regression model, however, only provide alternative models with tabular data for comparison. Lets now try a dense net with this data set. Our net will have one input layer, one hidden layer and one output layer, with 30 nodes on both the enry and hidden layer, 8 output nodes:"
      ],
      "metadata": {
        "id": "QZzIwmEGFZIx"
      },
      "id": "QZzIwmEGFZIx"
    },
    {
      "cell_type": "code",
      "source": [
        "from sklearn.preprocessing import LabelEncoder"
      ],
      "metadata": {
        "id": "9e5eQcHQMPLA"
      },
      "id": "9e5eQcHQMPLA",
      "execution_count": null,
      "outputs": []
    },
    {
      "cell_type": "code",
      "source": [
        "\n",
        "le = LabelEncoder()"
      ],
      "metadata": {
        "id": "SeMMQTaJMaxm"
      },
      "id": "SeMMQTaJMaxm",
      "execution_count": null,
      "outputs": []
    },
    {
      "cell_type": "code",
      "source": [
        "encoded_y_train = le.fit_transform(y_train)\n",
        "encoded_y_test = le.transform(y_test)"
      ],
      "metadata": {
        "id": "pfizGNV0M1r3"
      },
      "id": "pfizGNV0M1r3",
      "execution_count": null,
      "outputs": []
    },
    {
      "cell_type": "code",
      "source": [
        "encoded_y_test"
      ],
      "metadata": {
        "colab": {
          "base_uri": "https://localhost:8080/"
        },
        "id": "W2bvc6plNKrw",
        "outputId": "a3fe8fc8-ec77-472e-bb30-4401eeb5b778"
      },
      "id": "W2bvc6plNKrw",
      "execution_count": null,
      "outputs": [
        {
          "output_type": "execute_result",
          "data": {
            "text/plain": [
              "array([7, 2, 6, ..., 1, 7, 1])"
            ]
          },
          "metadata": {},
          "execution_count": 28
        }
      ]
    },
    {
      "cell_type": "code",
      "execution_count": null,
      "id": "f41099c4",
      "metadata": {
        "id": "f41099c4"
      },
      "outputs": [],
      "source": [
        "model = Sequential()\n",
        "model.add(Dense(30, activation='relu', input_shape=(X_train.shape[1],)))\n",
        "model.add(Dense(30, activation='relu'))\n",
        "model.add(Dense(8, activation='softmax'))"
      ]
    },
    {
      "cell_type": "code",
      "execution_count": null,
      "id": "bd2d506e",
      "metadata": {
        "id": "bd2d506e"
      },
      "outputs": [],
      "source": [
        "\n",
        "model.compile(\n",
        "    optimizer='rmsprop',\n",
        "    loss='sparse_categorical_crossentropy',\n",
        "    metrics=['accuracy']\n",
        ")"
      ]
    },
    {
      "cell_type": "code",
      "execution_count": null,
      "id": "078c7979",
      "metadata": {
        "colab": {
          "base_uri": "https://localhost:8080/"
        },
        "id": "078c7979",
        "outputId": "d128efaf-9daa-4342-a6f5-73f18625b442"
      },
      "outputs": [
        {
          "output_type": "stream",
          "name": "stdout",
          "text": [
            "Epoch 1/100\n",
            "101/101 - 5s - loss: 3.7433 - accuracy: 0.2489 - val_loss: 2.1141 - val_accuracy: 0.2985 - 5s/epoch - 52ms/step\n",
            "Epoch 2/100\n",
            "101/101 - 0s - loss: 1.9583 - accuracy: 0.2957 - val_loss: 2.1033 - val_accuracy: 0.3074 - 351ms/epoch - 3ms/step\n",
            "Epoch 3/100\n",
            "101/101 - 0s - loss: 1.9123 - accuracy: 0.3041 - val_loss: 1.9283 - val_accuracy: 0.3088 - 451ms/epoch - 4ms/step\n",
            "Epoch 4/100\n",
            "101/101 - 0s - loss: 1.8877 - accuracy: 0.3013 - val_loss: 1.9053 - val_accuracy: 0.3088 - 343ms/epoch - 3ms/step\n",
            "Epoch 5/100\n",
            "101/101 - 0s - loss: 1.8524 - accuracy: 0.3232 - val_loss: 2.0134 - val_accuracy: 0.3111 - 341ms/epoch - 3ms/step\n",
            "Epoch 6/100\n",
            "101/101 - 0s - loss: 1.8416 - accuracy: 0.3209 - val_loss: 1.8378 - val_accuracy: 0.3568 - 424ms/epoch - 4ms/step\n",
            "Epoch 7/100\n",
            "101/101 - 0s - loss: 1.8189 - accuracy: 0.3336 - val_loss: 1.8407 - val_accuracy: 0.3041 - 342ms/epoch - 3ms/step\n",
            "Epoch 8/100\n",
            "101/101 - 0s - loss: 1.8006 - accuracy: 0.3254 - val_loss: 1.7620 - val_accuracy: 0.3545 - 437ms/epoch - 4ms/step\n",
            "Epoch 9/100\n",
            "101/101 - 0s - loss: 1.7808 - accuracy: 0.3406 - val_loss: 1.7538 - val_accuracy: 0.3386 - 350ms/epoch - 3ms/step\n",
            "Epoch 10/100\n",
            "101/101 - 0s - loss: 1.7754 - accuracy: 0.3361 - val_loss: 1.7474 - val_accuracy: 0.3554 - 338ms/epoch - 3ms/step\n",
            "Epoch 11/100\n",
            "101/101 - 0s - loss: 1.7477 - accuracy: 0.3489 - val_loss: 1.9211 - val_accuracy: 0.3307 - 345ms/epoch - 3ms/step\n",
            "Epoch 12/100\n",
            "101/101 - 0s - loss: 1.7454 - accuracy: 0.3549 - val_loss: 1.7996 - val_accuracy: 0.3293 - 359ms/epoch - 4ms/step\n",
            "Epoch 13/100\n",
            "101/101 - 0s - loss: 1.7259 - accuracy: 0.3610 - val_loss: 1.7020 - val_accuracy: 0.3909 - 407ms/epoch - 4ms/step\n",
            "Epoch 14/100\n",
            "101/101 - 0s - loss: 1.7165 - accuracy: 0.3669 - val_loss: 1.7167 - val_accuracy: 0.3745 - 322ms/epoch - 3ms/step\n",
            "Epoch 15/100\n",
            "101/101 - 0s - loss: 1.6955 - accuracy: 0.3734 - val_loss: 1.7228 - val_accuracy: 0.3493 - 331ms/epoch - 3ms/step\n",
            "Epoch 16/100\n",
            "101/101 - 0s - loss: 1.6888 - accuracy: 0.3722 - val_loss: 1.6666 - val_accuracy: 0.3759 - 450ms/epoch - 4ms/step\n",
            "Epoch 17/100\n",
            "101/101 - 0s - loss: 1.6650 - accuracy: 0.3912 - val_loss: 1.6475 - val_accuracy: 0.3713 - 323ms/epoch - 3ms/step\n",
            "Epoch 18/100\n",
            "101/101 - 0s - loss: 1.6634 - accuracy: 0.3828 - val_loss: 1.7932 - val_accuracy: 0.3265 - 336ms/epoch - 3ms/step\n",
            "Epoch 19/100\n",
            "101/101 - 0s - loss: 1.6536 - accuracy: 0.3814 - val_loss: 1.6098 - val_accuracy: 0.4095 - 468ms/epoch - 5ms/step\n",
            "Epoch 20/100\n",
            "101/101 - 0s - loss: 1.6359 - accuracy: 0.3986 - val_loss: 1.5859 - val_accuracy: 0.4296 - 476ms/epoch - 5ms/step\n",
            "Epoch 21/100\n",
            "101/101 - 1s - loss: 1.6269 - accuracy: 0.3997 - val_loss: 1.5907 - val_accuracy: 0.4193 - 528ms/epoch - 5ms/step\n",
            "Epoch 22/100\n",
            "101/101 - 0s - loss: 1.6106 - accuracy: 0.4150 - val_loss: 1.6244 - val_accuracy: 0.3941 - 477ms/epoch - 5ms/step\n",
            "Epoch 23/100\n",
            "101/101 - 1s - loss: 1.6163 - accuracy: 0.3958 - val_loss: 1.6361 - val_accuracy: 0.3610 - 569ms/epoch - 6ms/step\n",
            "Epoch 24/100\n",
            "101/101 - 0s - loss: 1.5975 - accuracy: 0.4069 - val_loss: 1.6515 - val_accuracy: 0.3969 - 391ms/epoch - 4ms/step\n",
            "Epoch 25/100\n",
            "101/101 - 0s - loss: 1.5871 - accuracy: 0.4104 - val_loss: 1.7353 - val_accuracy: 0.3461 - 349ms/epoch - 3ms/step\n",
            "Epoch 26/100\n",
            "101/101 - 0s - loss: 1.5802 - accuracy: 0.4104 - val_loss: 1.5635 - val_accuracy: 0.3974 - 441ms/epoch - 4ms/step\n",
            "Epoch 27/100\n",
            "101/101 - 0s - loss: 1.5657 - accuracy: 0.4212 - val_loss: 1.5390 - val_accuracy: 0.4277 - 417ms/epoch - 4ms/step\n",
            "Epoch 28/100\n",
            "101/101 - 0s - loss: 1.5591 - accuracy: 0.4195 - val_loss: 1.6182 - val_accuracy: 0.4062 - 449ms/epoch - 4ms/step\n",
            "Epoch 29/100\n",
            "101/101 - 0s - loss: 1.5590 - accuracy: 0.4252 - val_loss: 1.5792 - val_accuracy: 0.4058 - 326ms/epoch - 3ms/step\n",
            "Epoch 30/100\n",
            "101/101 - 0s - loss: 1.5458 - accuracy: 0.4251 - val_loss: 1.5796 - val_accuracy: 0.3755 - 365ms/epoch - 4ms/step\n",
            "Epoch 31/100\n",
            "101/101 - 0s - loss: 1.5342 - accuracy: 0.4383 - val_loss: 1.5512 - val_accuracy: 0.4291 - 436ms/epoch - 4ms/step\n",
            "Epoch 32/100\n",
            "101/101 - 0s - loss: 1.5273 - accuracy: 0.4313 - val_loss: 1.5524 - val_accuracy: 0.4361 - 407ms/epoch - 4ms/step\n",
            "Epoch 33/100\n",
            "101/101 - 0s - loss: 1.5202 - accuracy: 0.4377 - val_loss: 1.5580 - val_accuracy: 0.4207 - 351ms/epoch - 3ms/step\n",
            "Epoch 34/100\n",
            "101/101 - 0s - loss: 1.5127 - accuracy: 0.4373 - val_loss: 1.5367 - val_accuracy: 0.4118 - 333ms/epoch - 3ms/step\n",
            "Epoch 35/100\n",
            "101/101 - 0s - loss: 1.5145 - accuracy: 0.4394 - val_loss: 1.4787 - val_accuracy: 0.4314 - 326ms/epoch - 3ms/step\n",
            "Epoch 36/100\n",
            "101/101 - 0s - loss: 1.5010 - accuracy: 0.4456 - val_loss: 1.5029 - val_accuracy: 0.4473 - 347ms/epoch - 3ms/step\n",
            "Epoch 37/100\n",
            "101/101 - 0s - loss: 1.4936 - accuracy: 0.4537 - val_loss: 1.5785 - val_accuracy: 0.3937 - 417ms/epoch - 4ms/step\n",
            "Epoch 38/100\n",
            "101/101 - 0s - loss: 1.4869 - accuracy: 0.4579 - val_loss: 1.4632 - val_accuracy: 0.4562 - 433ms/epoch - 4ms/step\n",
            "Epoch 39/100\n",
            "101/101 - 0s - loss: 1.4786 - accuracy: 0.4588 - val_loss: 1.4589 - val_accuracy: 0.4669 - 417ms/epoch - 4ms/step\n",
            "Epoch 40/100\n",
            "101/101 - 0s - loss: 1.4742 - accuracy: 0.4509 - val_loss: 1.5535 - val_accuracy: 0.4202 - 328ms/epoch - 3ms/step\n",
            "Epoch 41/100\n",
            "101/101 - 0s - loss: 1.4679 - accuracy: 0.4569 - val_loss: 1.4691 - val_accuracy: 0.4618 - 394ms/epoch - 4ms/step\n",
            "Epoch 42/100\n",
            "101/101 - 0s - loss: 1.4693 - accuracy: 0.4670 - val_loss: 1.4417 - val_accuracy: 0.4585 - 332ms/epoch - 3ms/step\n",
            "Epoch 43/100\n",
            "101/101 - 0s - loss: 1.4615 - accuracy: 0.4622 - val_loss: 1.5841 - val_accuracy: 0.4221 - 350ms/epoch - 3ms/step\n",
            "Epoch 44/100\n",
            "101/101 - 0s - loss: 1.4605 - accuracy: 0.4652 - val_loss: 1.4337 - val_accuracy: 0.4506 - 430ms/epoch - 4ms/step\n",
            "Epoch 45/100\n",
            "101/101 - 0s - loss: 1.4538 - accuracy: 0.4627 - val_loss: 1.4131 - val_accuracy: 0.4832 - 406ms/epoch - 4ms/step\n",
            "Epoch 46/100\n",
            "101/101 - 0s - loss: 1.4505 - accuracy: 0.4692 - val_loss: 1.4527 - val_accuracy: 0.4557 - 451ms/epoch - 4ms/step\n",
            "Epoch 47/100\n",
            "101/101 - 0s - loss: 1.4443 - accuracy: 0.4731 - val_loss: 1.4587 - val_accuracy: 0.4678 - 333ms/epoch - 3ms/step\n",
            "Epoch 48/100\n",
            "101/101 - 0s - loss: 1.4514 - accuracy: 0.4638 - val_loss: 1.4668 - val_accuracy: 0.4515 - 357ms/epoch - 4ms/step\n",
            "Epoch 49/100\n",
            "101/101 - 0s - loss: 1.4470 - accuracy: 0.4689 - val_loss: 1.4591 - val_accuracy: 0.4641 - 411ms/epoch - 4ms/step\n",
            "Epoch 50/100\n",
            "101/101 - 1s - loss: 1.4395 - accuracy: 0.4748 - val_loss: 1.4015 - val_accuracy: 0.4972 - 798ms/epoch - 8ms/step\n",
            "Epoch 51/100\n",
            "101/101 - 1s - loss: 1.4426 - accuracy: 0.4667 - val_loss: 1.4221 - val_accuracy: 0.4776 - 1s/epoch - 10ms/step\n",
            "Epoch 52/100\n",
            "101/101 - 0s - loss: 1.4272 - accuracy: 0.4793 - val_loss: 1.5289 - val_accuracy: 0.4011 - 487ms/epoch - 5ms/step\n",
            "Epoch 53/100\n",
            "101/101 - 1s - loss: 1.4270 - accuracy: 0.4798 - val_loss: 1.4223 - val_accuracy: 0.4818 - 780ms/epoch - 8ms/step\n",
            "Epoch 54/100\n",
            "101/101 - 0s - loss: 1.4255 - accuracy: 0.4793 - val_loss: 1.4316 - val_accuracy: 0.4529 - 340ms/epoch - 3ms/step\n",
            "Epoch 55/100\n",
            "101/101 - 0s - loss: 1.4280 - accuracy: 0.4803 - val_loss: 1.4884 - val_accuracy: 0.4473 - 353ms/epoch - 3ms/step\n",
            "Epoch 56/100\n",
            "101/101 - 0s - loss: 1.4120 - accuracy: 0.4866 - val_loss: 1.5298 - val_accuracy: 0.4170 - 347ms/epoch - 3ms/step\n",
            "Epoch 57/100\n",
            "101/101 - 0s - loss: 1.4176 - accuracy: 0.4887 - val_loss: 1.3662 - val_accuracy: 0.5047 - 361ms/epoch - 4ms/step\n",
            "Epoch 58/100\n",
            "101/101 - 0s - loss: 1.4132 - accuracy: 0.4871 - val_loss: 1.4592 - val_accuracy: 0.4459 - 359ms/epoch - 4ms/step\n",
            "Epoch 59/100\n",
            "101/101 - 0s - loss: 1.4099 - accuracy: 0.4817 - val_loss: 1.4177 - val_accuracy: 0.4767 - 337ms/epoch - 3ms/step\n",
            "Epoch 60/100\n",
            "101/101 - 0s - loss: 1.4058 - accuracy: 0.4832 - val_loss: 1.5257 - val_accuracy: 0.4114 - 359ms/epoch - 4ms/step\n",
            "Epoch 61/100\n",
            "101/101 - 0s - loss: 1.4046 - accuracy: 0.4883 - val_loss: 1.5931 - val_accuracy: 0.4212 - 366ms/epoch - 4ms/step\n",
            "Epoch 62/100\n",
            "101/101 - 0s - loss: 1.4102 - accuracy: 0.4869 - val_loss: 1.4099 - val_accuracy: 0.4701 - 329ms/epoch - 3ms/step\n",
            "Epoch 63/100\n",
            "101/101 - 0s - loss: 1.4012 - accuracy: 0.4936 - val_loss: 1.3889 - val_accuracy: 0.5065 - 372ms/epoch - 4ms/step\n",
            "Epoch 64/100\n",
            "101/101 - 0s - loss: 1.4070 - accuracy: 0.4879 - val_loss: 1.4762 - val_accuracy: 0.4300 - 374ms/epoch - 4ms/step\n",
            "Epoch 65/100\n",
            "101/101 - 0s - loss: 1.3995 - accuracy: 0.4914 - val_loss: 1.5184 - val_accuracy: 0.4468 - 327ms/epoch - 3ms/step\n",
            "Epoch 66/100\n",
            "101/101 - 0s - loss: 1.3953 - accuracy: 0.4967 - val_loss: 1.3756 - val_accuracy: 0.4953 - 357ms/epoch - 4ms/step\n",
            "Epoch 67/100\n",
            "101/101 - 0s - loss: 1.3976 - accuracy: 0.4893 - val_loss: 1.3863 - val_accuracy: 0.4907 - 355ms/epoch - 4ms/step\n",
            "Epoch 68/100\n",
            "101/101 - 0s - loss: 1.3952 - accuracy: 0.4947 - val_loss: 1.5355 - val_accuracy: 0.3997 - 414ms/epoch - 4ms/step\n",
            "Epoch 69/100\n",
            "101/101 - 0s - loss: 1.3888 - accuracy: 0.4935 - val_loss: 1.4812 - val_accuracy: 0.4529 - 370ms/epoch - 4ms/step\n",
            "Epoch 70/100\n",
            "101/101 - 0s - loss: 1.3894 - accuracy: 0.5017 - val_loss: 1.3515 - val_accuracy: 0.5168 - 428ms/epoch - 4ms/step\n",
            "Epoch 71/100\n",
            "101/101 - 0s - loss: 1.3856 - accuracy: 0.4964 - val_loss: 1.5763 - val_accuracy: 0.4263 - 419ms/epoch - 4ms/step\n",
            "Epoch 72/100\n",
            "101/101 - 0s - loss: 1.3877 - accuracy: 0.4970 - val_loss: 1.4737 - val_accuracy: 0.4436 - 361ms/epoch - 4ms/step\n",
            "Epoch 73/100\n",
            "101/101 - 0s - loss: 1.3860 - accuracy: 0.4969 - val_loss: 1.3808 - val_accuracy: 0.5037 - 333ms/epoch - 3ms/step\n",
            "Epoch 74/100\n",
            "101/101 - 0s - loss: 1.3783 - accuracy: 0.5031 - val_loss: 1.4410 - val_accuracy: 0.4599 - 327ms/epoch - 3ms/step\n",
            "Epoch 75/100\n",
            "101/101 - 0s - loss: 1.3817 - accuracy: 0.5031 - val_loss: 1.5534 - val_accuracy: 0.4436 - 430ms/epoch - 4ms/step\n",
            "Epoch 76/100\n",
            "101/101 - 0s - loss: 1.3876 - accuracy: 0.4978 - val_loss: 1.3853 - val_accuracy: 0.5070 - 402ms/epoch - 4ms/step\n",
            "Epoch 77/100\n",
            "101/101 - 0s - loss: 1.3846 - accuracy: 0.5039 - val_loss: 1.4887 - val_accuracy: 0.4328 - 432ms/epoch - 4ms/step\n",
            "Epoch 78/100\n",
            "101/101 - 0s - loss: 1.3735 - accuracy: 0.5003 - val_loss: 1.3678 - val_accuracy: 0.4935 - 323ms/epoch - 3ms/step\n",
            "Epoch 79/100\n",
            "101/101 - 0s - loss: 1.3736 - accuracy: 0.5042 - val_loss: 1.4984 - val_accuracy: 0.4557 - 351ms/epoch - 3ms/step\n",
            "Epoch 80/100\n",
            "101/101 - 1s - loss: 1.3810 - accuracy: 0.4988 - val_loss: 1.5243 - val_accuracy: 0.4118 - 534ms/epoch - 5ms/step\n",
            "Epoch 81/100\n",
            "101/101 - 1s - loss: 1.3707 - accuracy: 0.5056 - val_loss: 1.4181 - val_accuracy: 0.4697 - 530ms/epoch - 5ms/step\n",
            "Epoch 82/100\n",
            "101/101 - 1s - loss: 1.3765 - accuracy: 0.5016 - val_loss: 1.4034 - val_accuracy: 0.5042 - 529ms/epoch - 5ms/step\n",
            "Epoch 83/100\n",
            "101/101 - 1s - loss: 1.3723 - accuracy: 0.5017 - val_loss: 1.5572 - val_accuracy: 0.4221 - 514ms/epoch - 5ms/step\n",
            "Epoch 84/100\n",
            "101/101 - 1s - loss: 1.3700 - accuracy: 0.5051 - val_loss: 1.3698 - val_accuracy: 0.5098 - 504ms/epoch - 5ms/step\n",
            "Epoch 85/100\n",
            "101/101 - 0s - loss: 1.3607 - accuracy: 0.5089 - val_loss: 1.3397 - val_accuracy: 0.5312 - 353ms/epoch - 3ms/step\n",
            "Epoch 86/100\n",
            "101/101 - 0s - loss: 1.3659 - accuracy: 0.5033 - val_loss: 1.3391 - val_accuracy: 0.5243 - 326ms/epoch - 3ms/step\n",
            "Epoch 87/100\n",
            "101/101 - 0s - loss: 1.3612 - accuracy: 0.5115 - val_loss: 1.3654 - val_accuracy: 0.5070 - 339ms/epoch - 3ms/step\n",
            "Epoch 88/100\n",
            "101/101 - 0s - loss: 1.3637 - accuracy: 0.5093 - val_loss: 1.5133 - val_accuracy: 0.4305 - 368ms/epoch - 4ms/step\n",
            "Epoch 89/100\n",
            "101/101 - 0s - loss: 1.3728 - accuracy: 0.4989 - val_loss: 1.3671 - val_accuracy: 0.5140 - 424ms/epoch - 4ms/step\n",
            "Epoch 90/100\n",
            "101/101 - 0s - loss: 1.3653 - accuracy: 0.5061 - val_loss: 1.4186 - val_accuracy: 0.4865 - 338ms/epoch - 3ms/step\n",
            "Epoch 91/100\n",
            "101/101 - 0s - loss: 1.3591 - accuracy: 0.5123 - val_loss: 1.3961 - val_accuracy: 0.4963 - 349ms/epoch - 3ms/step\n",
            "Epoch 92/100\n",
            "101/101 - 0s - loss: 1.3647 - accuracy: 0.5058 - val_loss: 1.3403 - val_accuracy: 0.5238 - 338ms/epoch - 3ms/step\n",
            "Epoch 93/100\n",
            "101/101 - 0s - loss: 1.3664 - accuracy: 0.4991 - val_loss: 1.4184 - val_accuracy: 0.4771 - 433ms/epoch - 4ms/step\n",
            "Epoch 94/100\n",
            "101/101 - 0s - loss: 1.3511 - accuracy: 0.5121 - val_loss: 1.5044 - val_accuracy: 0.4440 - 358ms/epoch - 4ms/step\n",
            "Epoch 95/100\n",
            "101/101 - 0s - loss: 1.3568 - accuracy: 0.5092 - val_loss: 1.4787 - val_accuracy: 0.4562 - 382ms/epoch - 4ms/step\n",
            "Epoch 96/100\n",
            "101/101 - 0s - loss: 1.3464 - accuracy: 0.5159 - val_loss: 1.3433 - val_accuracy: 0.5257 - 355ms/epoch - 4ms/step\n",
            "Epoch 97/100\n",
            "101/101 - 0s - loss: 1.3622 - accuracy: 0.5090 - val_loss: 1.4371 - val_accuracy: 0.4482 - 330ms/epoch - 3ms/step\n",
            "Epoch 98/100\n",
            "101/101 - 0s - loss: 1.3449 - accuracy: 0.5086 - val_loss: 1.3245 - val_accuracy: 0.5224 - 354ms/epoch - 4ms/step\n",
            "Epoch 99/100\n",
            "101/101 - 0s - loss: 1.3503 - accuracy: 0.5096 - val_loss: 1.4015 - val_accuracy: 0.4790 - 407ms/epoch - 4ms/step\n",
            "Epoch 100/100\n",
            "101/101 - 0s - loss: 1.3453 - accuracy: 0.5155 - val_loss: 1.3469 - val_accuracy: 0.5079 - 405ms/epoch - 4ms/step\n"
          ]
        }
      ],
      "source": [
        "history = model.fit(\n",
        "    X_train, encoded_y_train,\n",
        "    epochs=100,\n",
        "    batch_size=64,\n",
        "    validation_data=(X_test, encoded_y_test),\n",
        "    verbose=2\n",
        ")"
      ]
    },
    {
      "cell_type": "code",
      "source": [
        "plt.plot(history.history['loss'], c='blue', label='Training Loss')\n",
        "plt.plot(history.history['val_loss'], c='red', label='Validation Loss')\n",
        "plt.legend();"
      ],
      "metadata": {
        "colab": {
          "base_uri": "https://localhost:8080/",
          "height": 265
        },
        "id": "HF2s5gPRUuoi",
        "outputId": "628d91fb-e085-4323-df6a-11423e3b909c"
      },
      "id": "HF2s5gPRUuoi",
      "execution_count": null,
      "outputs": [
        {
          "output_type": "display_data",
          "data": {
            "text/plain": [
              "<Figure size 432x288 with 1 Axes>"
            ],
            "image/png": "[encoded data removed]"
          },
          "metadata": {
            "needs_background": "light"
          }
        }
      ]
    },
    {
      "cell_type": "code",
      "source": [
        "plt.plot(history.history['accuracy'], c='navy', label='Training accuracy')\n",
        "plt.plot(history.history['val_accuracy'], c='orange', label='Validation accuracy')\n",
        "plt.legend();"
      ],
      "metadata": {
        "colab": {
          "base_uri": "https://localhost:8080/",
          "height": 265
        },
        "id": "XVyawVlPXymo",
        "outputId": "9c5ab557-e373-4393-e87b-7ebd6db8d7d4"
      },
      "id": "XVyawVlPXymo",
      "execution_count": null,
      "outputs": [
        {
          "output_type": "display_data",
          "data": {
            "text/plain": [
              "<Figure size 432x288 with 1 Axes>"
            ],
            "image/png": "[encoded data removed]"
          },
          "metadata": {
            "needs_background": "light"
          }
        }
      ]
    },
    {
      "cell_type": "markdown",
      "source": [
        "There actually isn't a need to regularize our model, its not prone to overfiting. We could iterate further, incorparate batch sizing, dropouts and early stoppage as well as more layers in order to improve the overall score, but once again, that is not the aim of this project"
      ],
      "metadata": {
        "id": "Vdx0c8HGGd5k"
      },
      "id": "Vdx0c8HGGd5k"
    },
    {
      "cell_type": "markdown",
      "source": [
        "## Conclusions:\n",
        "\n",
        "Using tabular data in order to classify music does provide an improvement over the base case. With further iteration these models could be improved. However, using this tabular data requires in and of itself music preprocessing to find the features used for fitting, which takes time and resources, and during this process the genre itself could be surmized with the preprocessing. The purpose of this project is to provide an easy to use model with which to classify lesser known artists. We will see how our CNN models do in comparison to these models"
      ],
      "metadata": {
        "id": "2PJeOoFuHB6u"
      },
      "id": "2PJeOoFuHB6u"
    }
  ],
  "metadata": {
    "kernelspec": {
      "display_name": "Python 3 (ipykernel)",
      "language": "python",
      "name": "python3"
    },
    "language_info": {
      "codemirror_mode": {
        "name": "ipython",
        "version": 3
      },
      "file_extension": ".py",
      "mimetype": "text/x-python",
      "name": "python",
      "nbconvert_exporter": "python",
      "pygments_lexer": "ipython3",
      "version": "3.9.13"
    },
    "colab": {
      "provenance": []
    },
    "accelerator": "GPU",
    "gpuClass": "standard"
  },
  "nbformat": 4,
  "nbformat_minor": 5
}